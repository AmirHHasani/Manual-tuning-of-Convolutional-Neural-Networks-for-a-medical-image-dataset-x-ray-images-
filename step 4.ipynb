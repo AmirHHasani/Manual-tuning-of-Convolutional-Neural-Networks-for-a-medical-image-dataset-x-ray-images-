{
 "cells": [
  {
   "cell_type": "code",
   "execution_count": 1,
   "id": "a2f3b9e8",
   "metadata": {},
   "outputs": [],
   "source": [
    "import tensorflow as tf\n",
    "from tensorflow import keras\n",
    "from keras import optimizers\n",
    "\n",
    "from keras import backend as K\n",
    "from keras.preprocessing.image import ImageDataGenerator,load_img, img_to_array\n",
    "from keras.models import Sequential, Model\n",
    "from keras.layers import Conv2D, MaxPooling2D,GlobalAveragePooling2D\n",
    "from keras.layers import Activation, Dropout, BatchNormalization, Flatten, Dense, AvgPool2D,MaxPool2D\n",
    "from keras.models import Sequential, Model\n",
    "from keras.applications.vgg16 import VGG16, preprocess_input\n",
    "from tensorflow.keras.optimizers import Adam, SGD, RMSprop\n",
    "\n",
    "from tensorflow.keras import layers\n",
    "from tensorflow.keras import regularizers\n",
    "\n",
    "import matplotlib.pyplot as plt\n",
    "\n",
    "from tensorflow.keras.utils import image_dataset_from_directory\n",
    "\n",
    "import numpy as np"
   ]
  },
  {
   "cell_type": "code",
   "execution_count": 3,
   "id": "70535e6a",
   "metadata": {},
   "outputs": [],
   "source": [
    "IMG_W = 150\n",
    "IMG_H = 150\n",
    "CHANNELS = 3\n",
    "\n",
    "INPUT_SHAPE = (IMG_W, IMG_H, CHANNELS)\n",
    "NB_CLASSES = 2\n",
    "EPOCHS = 20\n",
    "BATCH_SIZE = 16"
   ]
  },
  {
   "cell_type": "code",
   "execution_count": 17,
   "id": "c90bec37",
   "metadata": {},
   "outputs": [],
   "source": [
    "new_base_dir = \"./2-step/split data\"\n",
    "\n",
    "#new_base_dir = pathlib.Path(\"./2-step/split data\")"
   ]
  },
  {
   "cell_type": "code",
   "execution_count": 18,
   "id": "a054a0cc",
   "metadata": {},
   "outputs": [
    {
     "name": "stdout",
     "output_type": "stream",
     "text": [
      "Found 2100 files belonging to 2 classes.\n",
      "Found 450 files belonging to 2 classes.\n",
      "Found 450 files belonging to 2 classes.\n"
     ]
    }
   ],
   "source": [
    "train_dataset = image_dataset_from_directory(\n",
    "new_base_dir + \"/train\",\n",
    "image_size=(IMG_W, IMG_W),\n",
    "batch_size=BATCH_SIZE)\n",
    "\n",
    "validation_dataset = image_dataset_from_directory(\n",
    "new_base_dir + \"/val\",\n",
    "image_size=(IMG_W, IMG_W),\n",
    "batch_size=BATCH_SIZE)\n",
    "\n",
    "test_dataset = image_dataset_from_directory(\n",
    "new_base_dir + \"/test\",\n",
    "image_size=(IMG_W, IMG_W),\n",
    "batch_size=BATCH_SIZE)"
   ]
  },
  {
   "cell_type": "code",
   "execution_count": 6,
   "id": "f56eb98f",
   "metadata": {},
   "outputs": [],
   "source": [
    "inputs = keras.Input(shape=INPUT_SHAPE)\n",
    "#-----------------------------------------------------------------\n",
    "x = inputs\n",
    "x = layers.Rescaling(1./255)(inputs)\n",
    "#---------------------------------------------------------------------------------------\n",
    "x = layers.Conv2D(filters=8, kernel_size=3, activation=\"relu\")(x)\n",
    "x = layers.MaxPooling2D(pool_size=2)(x)\n",
    "x = layers.Conv2D(filters=16, kernel_size=3, activation=\"relu\")(x)\n",
    "x = layers.MaxPooling2D(pool_size=2)(x)\n",
    "x = layers.Conv2D(filters=32, kernel_size=3, activation=\"relu\")(x)\n",
    "x = layers.MaxPooling2D(pool_size=2)(x)\n",
    "x = layers.Conv2D(filters=64, kernel_size=3, activation=\"relu\")(x)\n",
    "x = layers.MaxPooling2D(pool_size=2)(x)\n",
    "x = layers.Conv2D(filters=64, kernel_size=3, activation=\"relu\")(x)\n",
    "x = layers.Flatten()(x)\n",
    "x = layers.Dense(8, activation=\"sigmoid\")(x)\n",
    "\n",
    "outputs = layers.Dense(1, activation=\"sigmoid\")(x)\n",
    "model5 = keras.Model(inputs=inputs, outputs=outputs)\n",
    "\n",
    "model5.compile(loss=\"binary_crossentropy\",\n",
    "optimizer=\"rmsprop\",\n",
    "metrics=[\"accuracy\",tf.keras.metrics.TruePositives(), tf.keras.metrics.TrueNegatives()])\n",
    "\n",
    "callbacks = [\n",
    "    keras.callbacks.ModelCheckpoint(\n",
    "        filepath=\"model5_step4.keras\",\n",
    "        save_best_only=True,\n",
    "        monitor=\"val_loss\")\n",
    "]"
   ]
  },
  {
   "cell_type": "code",
   "execution_count": 7,
   "id": "9515bf6c",
   "metadata": {},
   "outputs": [
    {
     "name": "stdout",
     "output_type": "stream",
     "text": [
      "Model: \"model_1\"\n",
      "_________________________________________________________________\n",
      "Layer (type)                 Output Shape              Param #   \n",
      "=================================================================\n",
      "input_2 (InputLayer)         [(None, 150, 150, 3)]     0         \n",
      "_________________________________________________________________\n",
      "conv2d_5 (Conv2D)            (None, 148, 148, 8)       224       \n",
      "_________________________________________________________________\n",
      "max_pooling2d_4 (MaxPooling2 (None, 74, 74, 8)         0         \n",
      "_________________________________________________________________\n",
      "conv2d_6 (Conv2D)            (None, 72, 72, 16)        1168      \n",
      "_________________________________________________________________\n",
      "max_pooling2d_5 (MaxPooling2 (None, 36, 36, 16)        0         \n",
      "_________________________________________________________________\n",
      "conv2d_7 (Conv2D)            (None, 34, 34, 32)        4640      \n",
      "_________________________________________________________________\n",
      "max_pooling2d_6 (MaxPooling2 (None, 17, 17, 32)        0         \n",
      "_________________________________________________________________\n",
      "conv2d_8 (Conv2D)            (None, 15, 15, 64)        18496     \n",
      "_________________________________________________________________\n",
      "max_pooling2d_7 (MaxPooling2 (None, 7, 7, 64)          0         \n",
      "_________________________________________________________________\n",
      "conv2d_9 (Conv2D)            (None, 5, 5, 64)          36928     \n",
      "_________________________________________________________________\n",
      "flatten_1 (Flatten)          (None, 1600)              0         \n",
      "_________________________________________________________________\n",
      "dense_2 (Dense)              (None, 8)                 12808     \n",
      "_________________________________________________________________\n",
      "dense_3 (Dense)              (None, 1)                 9         \n",
      "=================================================================\n",
      "Total params: 74,273\n",
      "Trainable params: 74,273\n",
      "Non-trainable params: 0\n",
      "_________________________________________________________________\n"
     ]
    }
   ],
   "source": [
    "model5.summary()"
   ]
  },
  {
   "cell_type": "code",
   "execution_count": 31,
   "id": "a53ccb4c",
   "metadata": {},
   "outputs": [
    {
     "name": "stdout",
     "output_type": "stream",
     "text": [
      "Epoch 1/20\n",
      "132/132 [==============================] - 9s 46ms/step - loss: 0.5144 - accuracy: 0.7590 - true_positives_1: 798.0000 - true_negatives_1: 796.0000 - val_loss: 0.3763 - val_accuracy: 0.8511 - val_true_positives_1: 204.0000 - val_true_negatives_1: 179.0000\n",
      "Epoch 2/20\n",
      "132/132 [==============================] - 6s 43ms/step - loss: 0.3245 - accuracy: 0.8786 - true_positives_1: 913.0000 - true_negatives_1: 932.0000 - val_loss: 0.2819 - val_accuracy: 0.8933 - val_true_positives_1: 184.0000 - val_true_negatives_1: 218.0000\n",
      "Epoch 3/20\n",
      "132/132 [==============================] - 6s 44ms/step - loss: 0.2681 - accuracy: 0.9062 - true_positives_1: 945.0000 - true_negatives_1: 958.0000 - val_loss: 0.2463 - val_accuracy: 0.9111 - val_true_positives_1: 193.0000 - val_true_negatives_1: 217.0000\n",
      "Epoch 4/20\n",
      "132/132 [==============================] - 6s 44ms/step - loss: 0.2354 - accuracy: 0.9157 - true_positives_1: 958.0000 - true_negatives_1: 965.0000 - val_loss: 0.2779 - val_accuracy: 0.9000 - val_true_positives_1: 184.0000 - val_true_negatives_1: 221.0000\n",
      "Epoch 5/20\n",
      "132/132 [==============================] - 6s 45ms/step - loss: 0.2018 - accuracy: 0.9305 - true_positives_1: 969.0000 - true_negatives_1: 985.0000 - val_loss: 0.2091 - val_accuracy: 0.9267 - val_true_positives_1: 202.0000 - val_true_negatives_1: 215.0000\n",
      "Epoch 6/20\n",
      "132/132 [==============================] - 6s 45ms/step - loss: 0.1779 - accuracy: 0.9395 - true_positives_1: 988.0000 - true_negatives_1: 985.0000 - val_loss: 0.2406 - val_accuracy: 0.9178 - val_true_positives_1: 220.0000 - val_true_negatives_1: 193.0000\n",
      "Epoch 7/20\n",
      "132/132 [==============================] - 6s 45ms/step - loss: 0.1552 - accuracy: 0.9486 - true_positives_1: 999.0000 - true_negatives_1: 993.0000 - val_loss: 0.3440 - val_accuracy: 0.8844 - val_true_positives_1: 174.0000 - val_true_negatives_1: 224.0000\n",
      "Epoch 8/20\n",
      "132/132 [==============================] - 6s 44ms/step - loss: 0.1472 - accuracy: 0.9562 - true_positives_1: 1004.0000 - true_negatives_1: 1004.0000 - val_loss: 0.1981 - val_accuracy: 0.9289 - val_true_positives_1: 204.0000 - val_true_negatives_1: 214.0000\n",
      "Epoch 9/20\n",
      "132/132 [==============================] - 6s 44ms/step - loss: 0.1388 - accuracy: 0.9519 - true_positives_1: 1001.0000 - true_negatives_1: 998.0000 - val_loss: 0.2067 - val_accuracy: 0.9222 - val_true_positives_1: 208.0000 - val_true_negatives_1: 207.0000\n",
      "Epoch 10/20\n",
      "132/132 [==============================] - 6s 45ms/step - loss: 0.1210 - accuracy: 0.9614 - true_positives_1: 1010.0000 - true_negatives_1: 1009.0000 - val_loss: 0.2642 - val_accuracy: 0.8933 - val_true_positives_1: 214.0000 - val_true_negatives_1: 188.0000\n",
      "Epoch 11/20\n",
      "132/132 [==============================] - 6s 45ms/step - loss: 0.1153 - accuracy: 0.9638 - true_positives_1: 1013.0000 - true_negatives_1: 1011.0000 - val_loss: 0.2008 - val_accuracy: 0.9289 - val_true_positives_1: 210.0000 - val_true_negatives_1: 208.0000\n",
      "Epoch 12/20\n",
      "132/132 [==============================] - 6s 45ms/step - loss: 0.1036 - accuracy: 0.9652 - true_positives_1: 1017.0000 - true_negatives_1: 1010.0000 - val_loss: 0.1652 - val_accuracy: 0.9422 - val_true_positives_1: 209.0000 - val_true_negatives_1: 215.0000\n",
      "Epoch 13/20\n",
      "132/132 [==============================] - 6s 47ms/step - loss: 0.0926 - accuracy: 0.9705 - true_positives_1: 1022.0000 - true_negatives_1: 1016.0000 - val_loss: 0.1883 - val_accuracy: 0.9422 - val_true_positives_1: 210.0000 - val_true_negatives_1: 214.0000\n",
      "Epoch 14/20\n",
      "132/132 [==============================] - 7s 48ms/step - loss: 0.0768 - accuracy: 0.9805 - true_positives_1: 1031.0000 - true_negatives_1: 1028.0000 - val_loss: 0.2083 - val_accuracy: 0.9311 - val_true_positives_1: 197.0000 - val_true_negatives_1: 222.0000\n",
      "Epoch 15/20\n",
      "132/132 [==============================] - 7s 50ms/step - loss: 0.0791 - accuracy: 0.9743 - true_positives_1: 1024.0000 - true_negatives_1: 1022.0000 - val_loss: 0.2068 - val_accuracy: 0.9378 - val_true_positives_1: 206.0000 - val_true_negatives_1: 216.0000\n",
      "Epoch 16/20\n",
      "132/132 [==============================] - 7s 49ms/step - loss: 0.0750 - accuracy: 0.9771 - true_positives_1: 1028.0000 - true_negatives_1: 1024.0000 - val_loss: 0.1999 - val_accuracy: 0.9356 - val_true_positives_1: 202.0000 - val_true_negatives_1: 219.0000\n",
      "Epoch 17/20\n",
      "132/132 [==============================] - 7s 49ms/step - loss: 0.0646 - accuracy: 0.9843 - true_positives_1: 1034.0000 - true_negatives_1: 1033.0000 - val_loss: 0.5594 - val_accuracy: 0.8400 - val_true_positives_1: 222.0000 - val_true_negatives_1: 156.0000\n",
      "Epoch 18/20\n",
      "132/132 [==============================] - 7s 48ms/step - loss: 0.0623 - accuracy: 0.9824 - true_positives_1: 1037.0000 - true_negatives_1: 1026.0000 - val_loss: 0.2688 - val_accuracy: 0.9178 - val_true_positives_1: 190.0000 - val_true_negatives_1: 223.0000\n",
      "Epoch 19/20\n",
      "132/132 [==============================] - 7s 48ms/step - loss: 0.0614 - accuracy: 0.9805 - true_positives_1: 1029.0000 - true_negatives_1: 1030.0000 - val_loss: 0.2353 - val_accuracy: 0.9422 - val_true_positives_1: 204.0000 - val_true_negatives_1: 220.0000\n",
      "Epoch 20/20\n",
      "132/132 [==============================] - 7s 48ms/step - loss: 0.0531 - accuracy: 0.9867 - true_positives_1: 1037.0000 - true_negatives_1: 1035.0000 - val_loss: 0.1992 - val_accuracy: 0.9467 - val_true_positives_1: 209.0000 - val_true_negatives_1: 217.0000\n"
     ]
    }
   ],
   "source": [
    "history = model5.fit(\n",
    "    train_dataset,\n",
    "    validation_data = validation_dataset,\n",
    "    epochs = EPOCHS,\n",
    "    callbacks=callbacks)"
   ]
  },
  {
   "cell_type": "code",
   "execution_count": 33,
   "id": "d215706d",
   "metadata": {},
   "outputs": [
    {
     "name": "stdout",
     "output_type": "stream",
     "text": [
      "29/29 [==============================] - 1s 26ms/step - loss: 0.1309 - accuracy: 0.9578 - true_positives_1: 217.0000 - true_negatives_1: 214.0000\n",
      "Test accuracy: 0.958\n"
     ]
    }
   ],
   "source": [
    "test_loss, test_acc, true_pos, true_neg = model5.evaluate(test_dataset)\n",
    "\n",
    "print(f\"Test accuracy: {test_acc:.3f}\")"
   ]
  },
  {
   "cell_type": "code",
   "execution_count": null,
   "id": "2e1ed59d",
   "metadata": {},
   "outputs": [],
   "source": []
  }
 ],
 "metadata": {
  "kernelspec": {
   "display_name": "Python 3 (ipykernel)",
   "language": "python",
   "name": "python3"
  },
  "language_info": {
   "codemirror_mode": {
    "name": "ipython",
    "version": 3
   },
   "file_extension": ".py",
   "mimetype": "text/x-python",
   "name": "python",
   "nbconvert_exporter": "python",
   "pygments_lexer": "ipython3",
   "version": "3.8.11"
  }
 },
 "nbformat": 4,
 "nbformat_minor": 5
}
