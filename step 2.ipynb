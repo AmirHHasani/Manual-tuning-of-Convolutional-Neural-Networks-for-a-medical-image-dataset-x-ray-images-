{
 "cells": [
  {
   "cell_type": "code",
   "execution_count": 1,
   "id": "0f151b7f",
   "metadata": {},
   "outputs": [],
   "source": [
    "import tensorflow as tf\n",
    "from tensorflow import keras\n",
    "from keras import optimizers\n",
    "\n",
    "from keras import backend as K\n",
    "from keras.preprocessing.image import ImageDataGenerator,load_img, img_to_array\n",
    "from keras.models import Sequential, Model\n",
    "from keras.layers import Conv2D, MaxPooling2D,GlobalAveragePooling2D\n",
    "from keras.layers import Activation, Dropout, BatchNormalization, Flatten, Dense, AvgPool2D,MaxPool2D\n",
    "from keras.models import Sequential, Model\n",
    "from keras.applications.vgg16 import VGG16, preprocess_input\n",
    "from tensorflow.keras.optimizers import Adam, SGD, RMSprop\n",
    "\n",
    "from tensorflow.keras import layers\n",
    "from tensorflow.keras import regularizers\n",
    "\n",
    "import matplotlib.pyplot as plt\n",
    "\n",
    "from tensorflow.keras.utils import image_dataset_from_directory\n",
    "\n",
    "import numpy as np\n"
   ]
  },
  {
   "cell_type": "code",
   "execution_count": 2,
   "id": "0cdf3b71",
   "metadata": {},
   "outputs": [],
   "source": [
    "DATASET_DIR = r\"F:\\data for final project sem3\\archive\\Coronahack-Chest-XRay-Dataset\\Coronahack-Chest-XRay-Dataset\\exp4\\train\""
   ]
  },
  {
   "cell_type": "code",
   "execution_count": 3,
   "id": "d7cd7600",
   "metadata": {},
   "outputs": [
    {
     "name": "stdout",
     "output_type": "stream",
     "text": [
      "Found 480 images belonging to 2 classes.\n",
      "Found 120 images belonging to 2 classes.\n"
     ]
    }
   ],
   "source": [
    "IMG_W = 150\n",
    "IMG_H = 150\n",
    "CHANNELS = 3\n",
    "\n",
    "INPUT_SHAPE = (IMG_W, IMG_H, CHANNELS)\n",
    "NB_CLASSES = 2\n",
    "EPOCHS = 50\n",
    "BATCH_SIZE = 8\n",
    "\n",
    "train_datagen = ImageDataGenerator(rescale=1./255,\n",
    "    validation_split=0.2)\n",
    "\n",
    "train_generator = train_datagen.flow_from_directory(\n",
    "    DATASET_DIR,\n",
    "    target_size=(IMG_H, IMG_W),\n",
    "    batch_size=BATCH_SIZE,\n",
    "    class_mode='binary',\n",
    "    subset='training')\n",
    "\n",
    "validation_generator = train_datagen.flow_from_directory(\n",
    "    DATASET_DIR, \n",
    "    target_size=(IMG_H, IMG_W),\n",
    "    batch_size=BATCH_SIZE,\n",
    "    class_mode='binary',\n",
    "    shuffle= True,\n",
    "    subset='validation')"
   ]
  },
  {
   "cell_type": "markdown",
   "id": "584d43cd",
   "metadata": {},
   "source": [
    "## making test dataset"
   ]
  },
  {
   "cell_type": "code",
   "execution_count": 4,
   "id": "8a748f08",
   "metadata": {},
   "outputs": [],
   "source": [
    "new_base_dir = \"F:/data for final project sem3/archive/Coronahack-Chest-XRay-Dataset/Coronahack-Chest-XRay-Dataset/exp4/test\""
   ]
  },
  {
   "cell_type": "code",
   "execution_count": 59,
   "id": "db7fd3c1",
   "metadata": {},
   "outputs": [
    {
     "name": "stdout",
     "output_type": "stream",
     "text": [
      "Found 624 images belonging to 2 classes.\n"
     ]
    }
   ],
   "source": [
    "train_datagen = ImageDataGenerator(rescale=1./255)\n",
    "\n",
    "test_generator = train_datagen.flow_from_directory(new_base_dir,\n",
    "                                                   target_size=(IMG_H, IMG_W),\n",
    "                                                   batch_size=BATCH_SIZE,\n",
    "                                                   class_mode='binary')"
   ]
  },
  {
   "cell_type": "code",
   "execution_count": 6,
   "id": "a191b182",
   "metadata": {},
   "outputs": [],
   "source": [
    "inputs = keras.Input(shape=INPUT_SHAPE)\n",
    "#-----------------------------------------------------------------\n",
    "x = inputs\n",
    "#---------------------------------------------------------------------------------------\n",
    "x = layers.Conv2D(filters=32, kernel_size=3, activation=\"relu\")(x)\n",
    "x = layers.MaxPooling2D(pool_size=2)(x)\n",
    "x = layers.Conv2D(filters=64, kernel_size=3, activation=\"relu\")(x)\n",
    "x = layers.MaxPooling2D(pool_size=2)(x)\n",
    "x = layers.Conv2D(filters=128, kernel_size=3, activation=\"relu\")(x)\n",
    "x = layers.MaxPooling2D(pool_size=2)(x)\n",
    "x = layers.Conv2D(filters=256, kernel_size=3, activation=\"relu\")(x)\n",
    "x = layers.MaxPooling2D(pool_size=2)(x)\n",
    "x = layers.Conv2D(filters=256, kernel_size=3, activation=\"relu\")(x)\n",
    "x = layers.Flatten()(x)\n",
    "x = layers.Dense(32, activation=\"sigmoid\")(x)\n",
    "\n",
    "outputs = layers.Dense(1, activation=\"sigmoid\")(x)\n",
    "model = keras.Model(inputs=inputs, outputs=outputs)\n",
    "\n",
    "model.compile(loss=\"binary_crossentropy\",\n",
    "optimizer=\"rmsprop\",\n",
    "metrics=[\"accuracy\"])"
   ]
  },
  {
   "cell_type": "code",
   "execution_count": 7,
   "id": "16e470c5",
   "metadata": {},
   "outputs": [
    {
     "name": "stdout",
     "output_type": "stream",
     "text": [
      "Epoch 1/50\n",
      "60/60 [==============================] - 14s 158ms/step - loss: 0.6170 - accuracy: 0.7167 - val_loss: 0.6096 - val_accuracy: 0.6833\n",
      "Epoch 2/50\n",
      "60/60 [==============================] - 10s 160ms/step - loss: 0.3752 - accuracy: 0.8479 - val_loss: 0.6780 - val_accuracy: 0.7417\n",
      "Epoch 3/50\n",
      "60/60 [==============================] - 9s 156ms/step - loss: 0.3373 - accuracy: 0.8667 - val_loss: 0.3772 - val_accuracy: 0.8750\n",
      "Epoch 4/50\n",
      "60/60 [==============================] - 9s 154ms/step - loss: 0.2717 - accuracy: 0.8938 - val_loss: 0.3969 - val_accuracy: 0.8500\n",
      "Epoch 5/50\n",
      "60/60 [==============================] - 9s 152ms/step - loss: 0.2648 - accuracy: 0.9146 - val_loss: 0.4837 - val_accuracy: 0.8500\n",
      "Epoch 6/50\n",
      "60/60 [==============================] - 9s 157ms/step - loss: 0.2146 - accuracy: 0.9208 - val_loss: 0.3226 - val_accuracy: 0.8833\n",
      "Epoch 7/50\n",
      "60/60 [==============================] - 9s 155ms/step - loss: 0.1939 - accuracy: 0.9354 - val_loss: 0.3903 - val_accuracy: 0.8583\n",
      "Epoch 8/50\n",
      "60/60 [==============================] - 9s 152ms/step - loss: 0.1840 - accuracy: 0.9354 - val_loss: 0.2702 - val_accuracy: 0.8833\n",
      "Epoch 9/50\n",
      "60/60 [==============================] - 9s 154ms/step - loss: 0.1474 - accuracy: 0.9625 - val_loss: 0.3021 - val_accuracy: 0.9000\n",
      "Epoch 10/50\n",
      "60/60 [==============================] - 9s 153ms/step - loss: 0.1333 - accuracy: 0.9646 - val_loss: 0.3436 - val_accuracy: 0.8750\n",
      "Epoch 11/50\n",
      "60/60 [==============================] - 10s 161ms/step - loss: 0.1216 - accuracy: 0.9625 - val_loss: 0.2502 - val_accuracy: 0.9250\n",
      "Epoch 12/50\n",
      "60/60 [==============================] - 9s 156ms/step - loss: 0.1252 - accuracy: 0.9625 - val_loss: 0.4182 - val_accuracy: 0.8667\n",
      "Epoch 13/50\n",
      "60/60 [==============================] - 10s 160ms/step - loss: 0.1297 - accuracy: 0.9521 - val_loss: 0.4112 - val_accuracy: 0.8750\n",
      "Epoch 14/50\n",
      "60/60 [==============================] - 9s 155ms/step - loss: 0.1171 - accuracy: 0.9667 - val_loss: 0.2061 - val_accuracy: 0.9500\n",
      "Epoch 15/50\n",
      "60/60 [==============================] - 10s 163ms/step - loss: 0.0958 - accuracy: 0.9729 - val_loss: 0.2199 - val_accuracy: 0.9333\n",
      "Epoch 16/50\n",
      "60/60 [==============================] - 10s 162ms/step - loss: 0.2254 - accuracy: 0.9438 - val_loss: 0.3055 - val_accuracy: 0.8917\n",
      "Epoch 17/50\n",
      "60/60 [==============================] - 10s 157ms/step - loss: 0.0696 - accuracy: 0.9729 - val_loss: 0.2333 - val_accuracy: 0.9083\n",
      "Epoch 18/50\n",
      "60/60 [==============================] - 10s 157ms/step - loss: 0.0478 - accuracy: 0.9812 - val_loss: 0.1634 - val_accuracy: 0.9500\n",
      "Epoch 19/50\n",
      "60/60 [==============================] - 10s 161ms/step - loss: 0.0229 - accuracy: 0.9979 - val_loss: 0.2868 - val_accuracy: 0.9167\n",
      "Epoch 20/50\n",
      "60/60 [==============================] - 10s 161ms/step - loss: 0.0997 - accuracy: 0.9771 - val_loss: 0.3003 - val_accuracy: 0.9167\n",
      "Epoch 21/50\n",
      "60/60 [==============================] - 9s 151ms/step - loss: 0.0381 - accuracy: 0.9875 - val_loss: 0.2458 - val_accuracy: 0.9250\n",
      "Epoch 22/50\n",
      "60/60 [==============================] - 9s 157ms/step - loss: 0.0240 - accuracy: 0.9958 - val_loss: 0.3226 - val_accuracy: 0.9083\n",
      "Epoch 23/50\n",
      "60/60 [==============================] - 10s 159ms/step - loss: 0.0221 - accuracy: 0.9937 - val_loss: 0.4202 - val_accuracy: 0.8917\n",
      "Epoch 24/50\n",
      "60/60 [==============================] - 10s 161ms/step - loss: 0.0138 - accuracy: 0.9937 - val_loss: 0.2855 - val_accuracy: 0.9167\n",
      "Epoch 25/50\n",
      "60/60 [==============================] - 9s 151ms/step - loss: 0.0021 - accuracy: 1.0000 - val_loss: 0.2900 - val_accuracy: 0.9417\n",
      "Epoch 26/50\n",
      "60/60 [==============================] - 10s 159ms/step - loss: 0.0011 - accuracy: 1.0000 - val_loss: 0.4248 - val_accuracy: 0.9167\n",
      "Epoch 27/50\n",
      "60/60 [==============================] - 9s 154ms/step - loss: 0.0498 - accuracy: 0.9875 - val_loss: 0.3627 - val_accuracy: 0.9333\n",
      "Epoch 28/50\n",
      "60/60 [==============================] - 9s 157ms/step - loss: 0.0379 - accuracy: 0.9854 - val_loss: 0.3212 - val_accuracy: 0.9333\n",
      "Epoch 29/50\n",
      "60/60 [==============================] - 9s 151ms/step - loss: 0.0040 - accuracy: 1.0000 - val_loss: 0.3498 - val_accuracy: 0.9333\n",
      "Epoch 30/50\n",
      "60/60 [==============================] - 9s 157ms/step - loss: 0.0593 - accuracy: 0.9875 - val_loss: 0.3789 - val_accuracy: 0.9417\n",
      "Epoch 31/50\n",
      "60/60 [==============================] - 10s 158ms/step - loss: 0.0402 - accuracy: 0.9896 - val_loss: 0.4656 - val_accuracy: 0.8833\n",
      "Epoch 32/50\n",
      "60/60 [==============================] - 10s 162ms/step - loss: 0.0115 - accuracy: 0.9937 - val_loss: 0.2404 - val_accuracy: 0.9333\n",
      "Epoch 33/50\n",
      "60/60 [==============================] - 10s 162ms/step - loss: 5.2062e-04 - accuracy: 1.0000 - val_loss: 0.2912 - val_accuracy: 0.9417\n",
      "Epoch 34/50\n",
      "60/60 [==============================] - 10s 158ms/step - loss: 2.9054e-04 - accuracy: 1.0000 - val_loss: 0.4724 - val_accuracy: 0.9250\n",
      "Epoch 35/50\n",
      "60/60 [==============================] - 9s 156ms/step - loss: 0.0546 - accuracy: 0.9875 - val_loss: 0.2845 - val_accuracy: 0.9583\n",
      "Epoch 36/50\n",
      "60/60 [==============================] - 9s 158ms/step - loss: 1.6916e-04 - accuracy: 1.0000 - val_loss: 0.3277 - val_accuracy: 0.9417\n",
      "Epoch 37/50\n",
      "60/60 [==============================] - 10s 159ms/step - loss: 1.0843e-04 - accuracy: 1.0000 - val_loss: 0.3993 - val_accuracy: 0.9500\n",
      "Epoch 38/50\n",
      "60/60 [==============================] - 10s 157ms/step - loss: 5.2668e-05 - accuracy: 1.0000 - val_loss: 0.5396 - val_accuracy: 0.9250\n",
      "Epoch 39/50\n",
      "60/60 [==============================] - 9s 155ms/step - loss: 2.4199e-05 - accuracy: 1.0000 - val_loss: 0.5963 - val_accuracy: 0.9250\n",
      "Epoch 40/50\n",
      "60/60 [==============================] - 9s 153ms/step - loss: 1.1181e-05 - accuracy: 1.0000 - val_loss: 0.5739 - val_accuracy: 0.9417\n",
      "Epoch 41/50\n",
      "60/60 [==============================] - 9s 154ms/step - loss: 5.2396e-06 - accuracy: 1.0000 - val_loss: 0.6107 - val_accuracy: 0.9333\n",
      "Epoch 42/50\n",
      "60/60 [==============================] - 9s 155ms/step - loss: 2.5015e-06 - accuracy: 1.0000 - val_loss: 0.6471 - val_accuracy: 0.9333\n",
      "Epoch 43/50\n",
      "60/60 [==============================] - 9s 155ms/step - loss: 1.2410e-06 - accuracy: 1.0000 - val_loss: 0.6805 - val_accuracy: 0.9333\n",
      "Epoch 44/50\n",
      "60/60 [==============================] - 9s 157ms/step - loss: 6.4948e-07 - accuracy: 1.0000 - val_loss: 0.7122 - val_accuracy: 0.9333\n",
      "Epoch 45/50\n",
      "60/60 [==============================] - 9s 155ms/step - loss: 3.6108e-07 - accuracy: 1.0000 - val_loss: 0.7403 - val_accuracy: 0.9333\n",
      "Epoch 46/50\n",
      "60/60 [==============================] - 9s 155ms/step - loss: 2.1943e-07 - accuracy: 1.0000 - val_loss: 0.7644 - val_accuracy: 0.9333\n",
      "Epoch 47/50\n",
      "60/60 [==============================] - 10s 158ms/step - loss: 1.4449e-07 - accuracy: 1.0000 - val_loss: 0.7847 - val_accuracy: 0.9333\n",
      "Epoch 48/50\n",
      "60/60 [==============================] - 10s 172ms/step - loss: 1.0379e-07 - accuracy: 1.0000 - val_loss: 0.8015 - val_accuracy: 0.9333\n",
      "Epoch 49/50\n",
      "60/60 [==============================] - 9s 154ms/step - loss: 7.8466e-08 - accuracy: 1.0000 - val_loss: 0.8153 - val_accuracy: 0.9333\n",
      "Epoch 50/50\n",
      "60/60 [==============================] - 9s 154ms/step - loss: 6.1231e-08 - accuracy: 1.0000 - val_loss: 0.8268 - val_accuracy: 0.9333\n"
     ]
    }
   ],
   "source": [
    "history = model.fit(\n",
    "    train_generator,\n",
    "    steps_per_epoch = train_generator.samples // BATCH_SIZE,\n",
    "    validation_data = validation_generator, \n",
    "    validation_steps = validation_generator.samples // BATCH_SIZE, epochs = EPOCHS)"
   ]
  },
  {
   "cell_type": "code",
   "execution_count": 8,
   "id": "0e778ba0",
   "metadata": {},
   "outputs": [
    {
     "data": {
      "image/png": "[encoded data removed]",
      "text/plain": [
       "<Figure size 432x288 with 1 Axes>"
      ]
     },
     "metadata": {
      "needs_background": "light"
     },
     "output_type": "display_data"
    },
    {
     "data": {
      "image/png": "[encoded data removed]",
      "text/plain": [
       "<Figure size 432x288 with 1 Axes>"
      ]
     },
     "metadata": {
      "needs_background": "light"
     },
     "output_type": "display_data"
    }
   ],
   "source": [
    "accuracy = history.history[\"accuracy\"]\n",
    "val_accuracy = history.history[\"val_accuracy\"]\n",
    "loss = history.history[\"loss\"]\n",
    "val_loss = history.history[\"val_loss\"]\n",
    "epochs = range(1, len(accuracy) + 1)\n",
    "plt.plot(epochs, accuracy, \"bo\", label=\"Training accuracy\")\n",
    "plt.plot(epochs, val_accuracy, \"b\", label=\"Validation accuracy\")\n",
    "plt.title(\"Training and validation accuracy\")\n",
    "plt.legend()\n",
    "plt.figure()\n",
    "plt.plot(epochs, loss, \"bo\", label=\"Training loss\")\n",
    "plt.plot(epochs, val_loss, \"b\", label=\"Validation loss\")\n",
    "plt.title(\"Training and validation loss\")\n",
    "plt.legend()\n",
    "plt.show()"
   ]
  },
  {
   "cell_type": "markdown",
   "id": "65dc0abf",
   "metadata": {},
   "source": [
    "## adding data augmentation"
   ]
  },
  {
   "cell_type": "code",
   "execution_count": 10,
   "id": "a6f87056",
   "metadata": {},
   "outputs": [],
   "source": [
    "data_augmentation = keras.Sequential(\n",
    "    [\n",
    "        layers.RandomFlip(\"horizontal\"),\n",
    "        layers.RandomRotation(0.1),\n",
    "        layers.RandomZoom(0.2),\n",
    "    ]\n",
    ")"
   ]
  },
  {
   "cell_type": "code",
   "execution_count": 11,
   "id": "279f6004",
   "metadata": {},
   "outputs": [],
   "source": [
    "inputs = keras.Input(shape=INPUT_SHAPE)\n",
    "\n",
    "x = data_augmentation(inputs)\n",
    "x = layers.Conv2D(filters=32, kernel_size=3, activation=\"relu\")(x)\n",
    "x = layers.MaxPooling2D(pool_size=2)(x)\n",
    "x = layers.Conv2D(filters=64, kernel_size=3, activation=\"relu\")(x)\n",
    "x = layers.MaxPooling2D(pool_size=2)(x)\n",
    "x = layers.Conv2D(filters=128, kernel_size=3, activation=\"relu\")(x)\n",
    "x = layers.MaxPooling2D(pool_size=2)(x)\n",
    "x = layers.Conv2D(filters=256, kernel_size=3, activation=\"relu\")(x)\n",
    "x = layers.MaxPooling2D(pool_size=2)(x)\n",
    "x = layers.Conv2D(filters=256, kernel_size=3, activation=\"relu\")(x)\n",
    "x = layers.Flatten()(x)\n",
    "x = layers.Dense(32, activation=\"sigmoid\")(x)\n",
    "\n",
    "outputs = layers.Dense(1, activation=\"sigmoid\")(x)\n",
    "model = keras.Model(inputs=inputs, outputs=outputs)\n",
    "\n",
    "model.compile(loss=\"binary_crossentropy\",\n",
    "optimizer=\"rmsprop\",\n",
    "metrics=[\"accuracy\"])"
   ]
  },
  {
   "cell_type": "code",
   "execution_count": 12,
   "id": "99f0c69c",
   "metadata": {},
   "outputs": [
    {
     "name": "stdout",
     "output_type": "stream",
     "text": [
      "Epoch 1/50\n",
      "60/60 [==============================] - 11s 161ms/step - loss: 0.7310 - accuracy: 0.4896 - val_loss: 0.6857 - val_accuracy: 0.5083\n",
      "Epoch 2/50\n",
      "60/60 [==============================] - 10s 168ms/step - loss: 1.3931 - accuracy: 0.5437 - val_loss: 1.7157 - val_accuracy: 0.5000\n",
      "Epoch 3/50\n",
      "60/60 [==============================] - 10s 161ms/step - loss: 1.5078 - accuracy: 0.5000 - val_loss: 1.2990 - val_accuracy: 0.5000\n",
      "Epoch 4/50\n",
      "60/60 [==============================] - 9s 155ms/step - loss: 1.1227 - accuracy: 0.5000 - val_loss: 0.9596 - val_accuracy: 0.5000\n",
      "Epoch 5/50\n",
      "60/60 [==============================] - 9s 155ms/step - loss: 0.8034 - accuracy: 0.5125 - val_loss: 0.6828 - val_accuracy: 0.5000\n",
      "Epoch 6/50\n",
      "60/60 [==============================] - 10s 162ms/step - loss: 0.7048 - accuracy: 0.4875 - val_loss: 0.6951 - val_accuracy: 0.5000\n",
      "Epoch 7/50\n",
      "60/60 [==============================] - 9s 156ms/step - loss: 0.6939 - accuracy: 0.5167 - val_loss: 0.6937 - val_accuracy: 0.5000\n",
      "Epoch 8/50\n",
      "60/60 [==============================] - 10s 160ms/step - loss: 0.6951 - accuracy: 0.4521 - val_loss: 0.6932 - val_accuracy: 0.5000\n",
      "Epoch 9/50\n",
      "60/60 [==============================] - 9s 157ms/step - loss: 0.6940 - accuracy: 0.5042 - val_loss: 0.6934 - val_accuracy: 0.5000\n",
      "Epoch 10/50\n",
      "60/60 [==============================] - 9s 154ms/step - loss: 0.7249 - accuracy: 0.4917 - val_loss: 0.7491 - val_accuracy: 0.5000\n",
      "Epoch 11/50\n",
      "60/60 [==============================] - 9s 154ms/step - loss: 0.7251 - accuracy: 0.5000 - val_loss: 0.6833 - val_accuracy: 0.5333\n",
      "Epoch 12/50\n",
      "60/60 [==============================] - 9s 155ms/step - loss: 0.7083 - accuracy: 0.5104 - val_loss: 0.6975 - val_accuracy: 0.5000\n",
      "Epoch 13/50\n",
      "60/60 [==============================] - 9s 154ms/step - loss: 0.6969 - accuracy: 0.5000 - val_loss: 0.6933 - val_accuracy: 0.5000\n",
      "Epoch 14/50\n",
      "60/60 [==============================] - 9s 155ms/step - loss: 0.6954 - accuracy: 0.5000 - val_loss: 0.6932 - val_accuracy: 0.5000\n",
      "Epoch 15/50\n",
      "60/60 [==============================] - 10s 158ms/step - loss: 0.6945 - accuracy: 0.4958 - val_loss: 0.6932 - val_accuracy: 0.5000\n",
      "Epoch 16/50\n",
      "60/60 [==============================] - 9s 158ms/step - loss: 0.6949 - accuracy: 0.4708 - val_loss: 0.6932 - val_accuracy: 0.5000\n",
      "Epoch 17/50\n",
      "60/60 [==============================] - 10s 159ms/step - loss: 0.6945 - accuracy: 0.5000 - val_loss: 0.6934 - val_accuracy: 0.5000\n",
      "Epoch 18/50\n",
      "60/60 [==============================] - 9s 156ms/step - loss: 0.6940 - accuracy: 0.4958 - val_loss: 0.6935 - val_accuracy: 0.5000\n",
      "Epoch 19/50\n",
      "60/60 [==============================] - 9s 153ms/step - loss: 0.6955 - accuracy: 0.4583 - val_loss: 0.6932 - val_accuracy: 0.5000\n",
      "Epoch 20/50\n",
      "60/60 [==============================] - 9s 156ms/step - loss: 0.6945 - accuracy: 0.4917 - val_loss: 0.6933 - val_accuracy: 0.5000\n",
      "Epoch 21/50\n",
      "60/60 [==============================] - 10s 160ms/step - loss: 0.6946 - accuracy: 0.4583 - val_loss: 0.6933 - val_accuracy: 0.5000\n",
      "Epoch 22/50\n",
      "60/60 [==============================] - 10s 161ms/step - loss: 0.6950 - accuracy: 0.4667 - val_loss: 0.6932 - val_accuracy: 0.5000\n",
      "Epoch 23/50\n",
      "60/60 [==============================] - 10s 159ms/step - loss: 0.6948 - accuracy: 0.4833 - val_loss: 0.6931 - val_accuracy: 0.5000\n",
      "Epoch 24/50\n",
      "60/60 [==============================] - 10s 173ms/step - loss: 0.6948 - accuracy: 0.4875 - val_loss: 0.6932 - val_accuracy: 0.5000\n",
      "Epoch 25/50\n",
      "60/60 [==============================] - 9s 156ms/step - loss: 0.6950 - accuracy: 0.4917 - val_loss: 0.6932 - val_accuracy: 0.5000\n",
      "Epoch 26/50\n",
      "60/60 [==============================] - 9s 154ms/step - loss: 0.6943 - accuracy: 0.5000 - val_loss: 0.6932 - val_accuracy: 0.5000\n",
      "Epoch 27/50\n",
      "60/60 [==============================] - 9s 155ms/step - loss: 0.6944 - accuracy: 0.5000 - val_loss: 0.6933 - val_accuracy: 0.5000\n",
      "Epoch 28/50\n",
      "60/60 [==============================] - 9s 154ms/step - loss: 0.6951 - accuracy: 0.4750 - val_loss: 0.6935 - val_accuracy: 0.5000\n",
      "Epoch 29/50\n",
      "60/60 [==============================] - 9s 154ms/step - loss: 0.6951 - accuracy: 0.4625 - val_loss: 0.6931 - val_accuracy: 0.5000\n",
      "Epoch 30/50\n",
      "60/60 [==============================] - 9s 154ms/step - loss: 0.6947 - accuracy: 0.4833 - val_loss: 0.6931 - val_accuracy: 0.5000\n",
      "Epoch 31/50\n",
      "60/60 [==============================] - 9s 155ms/step - loss: 0.6949 - accuracy: 0.4833 - val_loss: 0.6934 - val_accuracy: 0.5000\n",
      "Epoch 32/50\n",
      "60/60 [==============================] - 9s 154ms/step - loss: 0.6949 - accuracy: 0.5000 - val_loss: 0.6932 - val_accuracy: 0.5000\n",
      "Epoch 33/50\n",
      "60/60 [==============================] - 10s 158ms/step - loss: 0.6947 - accuracy: 0.5042 - val_loss: 0.6932 - val_accuracy: 0.5000\n",
      "Epoch 34/50\n",
      "60/60 [==============================] - 9s 157ms/step - loss: 0.6945 - accuracy: 0.4958 - val_loss: 0.6933 - val_accuracy: 0.5000\n",
      "Epoch 35/50\n",
      "60/60 [==============================] - 10s 165ms/step - loss: 0.6942 - accuracy: 0.5083 - val_loss: 0.6933 - val_accuracy: 0.5000\n",
      "Epoch 36/50\n",
      "60/60 [==============================] - 10s 160ms/step - loss: 0.6947 - accuracy: 0.4833 - val_loss: 0.6932 - val_accuracy: 0.5000\n",
      "Epoch 37/50\n",
      "60/60 [==============================] - 10s 157ms/step - loss: 0.6945 - accuracy: 0.4875 - val_loss: 0.6932 - val_accuracy: 0.5000\n",
      "Epoch 38/50\n",
      "60/60 [==============================] - 9s 157ms/step - loss: 0.6950 - accuracy: 0.4833 - val_loss: 0.6932 - val_accuracy: 0.5000\n",
      "Epoch 39/50\n",
      "60/60 [==============================] - 10s 158ms/step - loss: 0.6940 - accuracy: 0.5083 - val_loss: 0.6938 - val_accuracy: 0.5000\n",
      "Epoch 40/50\n",
      "60/60 [==============================] - 9s 157ms/step - loss: 0.6950 - accuracy: 0.4958 - val_loss: 0.6932 - val_accuracy: 0.5000\n",
      "Epoch 41/50\n",
      "60/60 [==============================] - 9s 157ms/step - loss: 0.6947 - accuracy: 0.4833 - val_loss: 0.6932 - val_accuracy: 0.5000\n",
      "Epoch 42/50\n",
      "60/60 [==============================] - 10s 157ms/step - loss: 0.6942 - accuracy: 0.5083 - val_loss: 0.6934 - val_accuracy: 0.5000\n",
      "Epoch 43/50\n",
      "60/60 [==============================] - 9s 156ms/step - loss: 0.6949 - accuracy: 0.4750 - val_loss: 0.6932 - val_accuracy: 0.5000\n",
      "Epoch 44/50\n",
      "60/60 [==============================] - 10s 158ms/step - loss: 0.6944 - accuracy: 0.4958 - val_loss: 0.6933 - val_accuracy: 0.5000\n",
      "Epoch 45/50\n",
      "60/60 [==============================] - 10s 158ms/step - loss: 0.6947 - accuracy: 0.5042 - val_loss: 0.6933 - val_accuracy: 0.5000\n",
      "Epoch 46/50\n",
      "60/60 [==============================] - 10s 158ms/step - loss: 0.6950 - accuracy: 0.5000 - val_loss: 0.6932 - val_accuracy: 0.5000\n",
      "Epoch 47/50\n",
      "60/60 [==============================] - 10s 158ms/step - loss: 0.6947 - accuracy: 0.4917 - val_loss: 0.6933 - val_accuracy: 0.5000\n",
      "Epoch 48/50\n",
      "60/60 [==============================] - 10s 157ms/step - loss: 0.6944 - accuracy: 0.4958 - val_loss: 0.6931 - val_accuracy: 0.5000\n",
      "Epoch 49/50\n",
      "60/60 [==============================] - 10s 160ms/step - loss: 0.6944 - accuracy: 0.5000 - val_loss: 0.6933 - val_accuracy: 0.5000\n",
      "Epoch 50/50\n",
      "60/60 [==============================] - 10s 158ms/step - loss: 0.6954 - accuracy: 0.4667 - val_loss: 0.6933 - val_accuracy: 0.5000\n"
     ]
    }
   ],
   "source": [
    "history = model.fit(\n",
    "    train_generator,\n",
    "    steps_per_epoch = train_generator.samples // BATCH_SIZE,\n",
    "    validation_data = validation_generator, \n",
    "    validation_steps = validation_generator.samples // BATCH_SIZE, epochs = EPOCHS)"
   ]
  },
  {
   "cell_type": "code",
   "execution_count": 13,
   "id": "eb2a12a7",
   "metadata": {},
   "outputs": [
    {
     "data": {
      "image/png": "[encoded data removed]",
      "text/plain": [
       "<Figure size 432x288 with 1 Axes>"
      ]
     },
     "metadata": {
      "needs_background": "light"
     },
     "output_type": "display_data"
    },
    {
     "data": {
      "image/png": "[encoded data removed]",
      "text/plain": [
       "<Figure size 432x288 with 1 Axes>"
      ]
     },
     "metadata": {
      "needs_background": "light"
     },
     "output_type": "display_data"
    }
   ],
   "source": [
    "accuracy = history.history[\"accuracy\"]\n",
    "val_accuracy = history.history[\"val_accuracy\"]\n",
    "loss = history.history[\"loss\"]\n",
    "val_loss = history.history[\"val_loss\"]\n",
    "epochs = range(1, len(accuracy) + 1)\n",
    "plt.plot(epochs, accuracy, \"bo\", label=\"Training accuracy\")\n",
    "plt.plot(epochs, val_accuracy, \"b\", label=\"Validation accuracy\")\n",
    "plt.title(\"Training and validation accuracy\")\n",
    "plt.legend()\n",
    "plt.figure()\n",
    "plt.plot(epochs, loss, \"bo\", label=\"Training loss\")\n",
    "plt.plot(epochs, val_loss, \"b\", label=\"Validation loss\")\n",
    "plt.title(\"Training and validation loss\")\n",
    "plt.legend()\n",
    "plt.show()"
   ]
  },
  {
   "cell_type": "markdown",
   "id": "3a48798f",
   "metadata": {},
   "source": [
    "## removing data augmentation and adding dropout layer"
   ]
  },
  {
   "cell_type": "code",
   "execution_count": 16,
   "id": "7aeb73ba",
   "metadata": {},
   "outputs": [],
   "source": [
    "inputs = keras.Input(shape=INPUT_SHAPE)\n",
    "\n",
    "x = inputs\n",
    "x = layers.Conv2D(filters=32, kernel_size=3, activation=\"relu\")(x)\n",
    "x = layers.MaxPooling2D(pool_size=2)(x)\n",
    "x = layers.Conv2D(filters=64, kernel_size=3, activation=\"relu\")(x)\n",
    "x = layers.MaxPooling2D(pool_size=2)(x)\n",
    "x = layers.Conv2D(filters=128, kernel_size=3, activation=\"relu\")(x)\n",
    "x = layers.MaxPooling2D(pool_size=2)(x)\n",
    "x = layers.Conv2D(filters=256, kernel_size=3, activation=\"relu\")(x)\n",
    "x = layers.MaxPooling2D(pool_size=2)(x)\n",
    "x = layers.Conv2D(filters=256, kernel_size=3, activation=\"relu\")(x)\n",
    "x = layers.Flatten()(x)\n",
    "x = layers.Dense(32, activation=\"sigmoid\")(x)\n",
    "\n",
    "x = layers.Dropout(0.5)(x)\n",
    "\n",
    "outputs = layers.Dense(1, activation=\"sigmoid\")(x)\n",
    "model3 = keras.Model(inputs=inputs, outputs=outputs)\n",
    "\n",
    "model3.compile(loss=\"binary_crossentropy\",\n",
    "optimizer=\"rmsprop\",\n",
    "metrics=[\"accuracy\"])"
   ]
  },
  {
   "cell_type": "code",
   "execution_count": 17,
   "id": "dbf7dc13",
   "metadata": {},
   "outputs": [
    {
     "name": "stdout",
     "output_type": "stream",
     "text": [
      "Epoch 1/50\n",
      "60/60 [==============================] - 11s 171ms/step - loss: 0.6858 - accuracy: 0.5750 - val_loss: 0.7175 - val_accuracy: 0.5000\n",
      "Epoch 2/50\n",
      "60/60 [==============================] - 10s 163ms/step - loss: 0.4826 - accuracy: 0.7708 - val_loss: 0.5216 - val_accuracy: 0.8083\n",
      "Epoch 3/50\n",
      "60/60 [==============================] - 10s 163ms/step - loss: 0.4032 - accuracy: 0.8292 - val_loss: 0.4781 - val_accuracy: 0.8000\n",
      "Epoch 4/50\n",
      "60/60 [==============================] - 10s 158ms/step - loss: 0.3612 - accuracy: 0.8604 - val_loss: 0.4184 - val_accuracy: 0.8417\n",
      "Epoch 5/50\n",
      "60/60 [==============================] - 10s 158ms/step - loss: 0.3128 - accuracy: 0.8792 - val_loss: 0.5850 - val_accuracy: 0.7583\n",
      "Epoch 6/50\n",
      "60/60 [==============================] - 10s 157ms/step - loss: 0.2762 - accuracy: 0.9000 - val_loss: 0.3445 - val_accuracy: 0.8333\n",
      "Epoch 7/50\n",
      "60/60 [==============================] - 9s 157ms/step - loss: 0.1967 - accuracy: 0.9375 - val_loss: 0.3168 - val_accuracy: 0.8833\n",
      "Epoch 8/50\n",
      "60/60 [==============================] - 10s 158ms/step - loss: 0.2259 - accuracy: 0.9146 - val_loss: 0.4485 - val_accuracy: 0.8083\n",
      "Epoch 9/50\n",
      "60/60 [==============================] - 10s 162ms/step - loss: 0.2299 - accuracy: 0.9229 - val_loss: 0.5211 - val_accuracy: 0.8250\n",
      "Epoch 10/50\n",
      "60/60 [==============================] - 10s 160ms/step - loss: 0.1872 - accuracy: 0.9375 - val_loss: 0.2870 - val_accuracy: 0.9000\n",
      "Epoch 11/50\n",
      "60/60 [==============================] - 10s 159ms/step - loss: 0.1847 - accuracy: 0.9417 - val_loss: 0.3076 - val_accuracy: 0.9000\n",
      "Epoch 12/50\n",
      "60/60 [==============================] - 10s 162ms/step - loss: 0.1621 - accuracy: 0.9521 - val_loss: 0.1855 - val_accuracy: 0.9333\n",
      "Epoch 13/50\n",
      "60/60 [==============================] - 9s 156ms/step - loss: 0.1502 - accuracy: 0.9604 - val_loss: 0.2668 - val_accuracy: 0.8833\n",
      "Epoch 14/50\n",
      "60/60 [==============================] - 10s 163ms/step - loss: 0.1490 - accuracy: 0.9458 - val_loss: 0.3115 - val_accuracy: 0.9083\n",
      "Epoch 15/50\n",
      "60/60 [==============================] - 10s 160ms/step - loss: 0.1230 - accuracy: 0.9708 - val_loss: 0.3542 - val_accuracy: 0.8750\n",
      "Epoch 16/50\n",
      "60/60 [==============================] - 10s 165ms/step - loss: 0.1099 - accuracy: 0.9646 - val_loss: 0.4389 - val_accuracy: 0.8333\n",
      "Epoch 17/50\n",
      "60/60 [==============================] - 10s 159ms/step - loss: 0.0974 - accuracy: 0.9729 - val_loss: 0.2217 - val_accuracy: 0.9333\n",
      "Epoch 18/50\n",
      "60/60 [==============================] - 10s 160ms/step - loss: 0.0780 - accuracy: 0.9833 - val_loss: 0.4235 - val_accuracy: 0.8750\n",
      "Epoch 19/50\n",
      "60/60 [==============================] - 10s 158ms/step - loss: 0.0863 - accuracy: 0.9750 - val_loss: 0.4042 - val_accuracy: 0.8667\n",
      "Epoch 20/50\n",
      "60/60 [==============================] - 10s 160ms/step - loss: 0.0676 - accuracy: 0.9854 - val_loss: 0.4377 - val_accuracy: 0.8917\n",
      "Epoch 21/50\n",
      "60/60 [==============================] - 10s 160ms/step - loss: 0.0822 - accuracy: 0.9854 - val_loss: 0.3670 - val_accuracy: 0.9083\n",
      "Epoch 22/50\n",
      "60/60 [==============================] - 10s 167ms/step - loss: 0.0753 - accuracy: 0.9833 - val_loss: 0.4148 - val_accuracy: 0.9083\n",
      "Epoch 23/50\n",
      "60/60 [==============================] - 10s 163ms/step - loss: 0.0567 - accuracy: 0.9896 - val_loss: 0.4440 - val_accuracy: 0.9167\n",
      "Epoch 24/50\n",
      "60/60 [==============================] - 10s 162ms/step - loss: 0.0711 - accuracy: 0.9854 - val_loss: 0.3734 - val_accuracy: 0.9167\n",
      "Epoch 25/50\n",
      "60/60 [==============================] - 10s 162ms/step - loss: 0.0313 - accuracy: 0.9917 - val_loss: 0.3959 - val_accuracy: 0.9167\n",
      "Epoch 26/50\n",
      "60/60 [==============================] - 10s 164ms/step - loss: 0.0639 - accuracy: 0.9854 - val_loss: 0.2354 - val_accuracy: 0.9333\n",
      "Epoch 27/50\n",
      "60/60 [==============================] - 10s 160ms/step - loss: 0.0409 - accuracy: 0.9917 - val_loss: 0.3336 - val_accuracy: 0.9250\n",
      "Epoch 28/50\n",
      "60/60 [==============================] - 10s 165ms/step - loss: 0.0647 - accuracy: 0.9854 - val_loss: 0.4396 - val_accuracy: 0.9000\n",
      "Epoch 29/50\n",
      "60/60 [==============================] - 9s 157ms/step - loss: 0.0259 - accuracy: 0.9958 - val_loss: 0.3611 - val_accuracy: 0.9167\n",
      "Epoch 30/50\n",
      "60/60 [==============================] - 10s 159ms/step - loss: 0.0327 - accuracy: 0.9917 - val_loss: 0.3119 - val_accuracy: 0.9500\n",
      "Epoch 31/50\n",
      "60/60 [==============================] - 10s 157ms/step - loss: 0.0603 - accuracy: 0.9833 - val_loss: 0.2271 - val_accuracy: 0.9333\n",
      "Epoch 32/50\n",
      "60/60 [==============================] - 10s 159ms/step - loss: 0.0320 - accuracy: 0.9875 - val_loss: 0.4047 - val_accuracy: 0.9167\n",
      "Epoch 33/50\n",
      "60/60 [==============================] - 9s 158ms/step - loss: 0.0433 - accuracy: 0.9937 - val_loss: 0.4201 - val_accuracy: 0.9250\n",
      "Epoch 34/50\n",
      "60/60 [==============================] - 10s 158ms/step - loss: 0.0146 - accuracy: 0.9979 - val_loss: 0.3602 - val_accuracy: 0.9250\n",
      "Epoch 35/50\n",
      "60/60 [==============================] - 10s 160ms/step - loss: 0.0356 - accuracy: 0.9917 - val_loss: 0.3628 - val_accuracy: 0.9417\n",
      "Epoch 36/50\n",
      "60/60 [==============================] - 10s 159ms/step - loss: 0.0153 - accuracy: 0.9958 - val_loss: 0.4251 - val_accuracy: 0.9333\n",
      "Epoch 37/50\n",
      "60/60 [==============================] - 10s 158ms/step - loss: 0.0262 - accuracy: 0.9937 - val_loss: 0.3930 - val_accuracy: 0.9250\n",
      "Epoch 38/50\n",
      "60/60 [==============================] - 10s 160ms/step - loss: 0.0132 - accuracy: 0.9979 - val_loss: 0.4683 - val_accuracy: 0.9167\n",
      "Epoch 39/50\n",
      "60/60 [==============================] - 10s 157ms/step - loss: 0.0195 - accuracy: 0.9979 - val_loss: 0.4453 - val_accuracy: 0.9250\n",
      "Epoch 40/50\n",
      "60/60 [==============================] - 10s 160ms/step - loss: 0.0428 - accuracy: 0.9917 - val_loss: 0.3077 - val_accuracy: 0.9500\n",
      "Epoch 41/50\n",
      "60/60 [==============================] - 10s 169ms/step - loss: 0.0185 - accuracy: 0.9979 - val_loss: 0.2914 - val_accuracy: 0.9583\n",
      "Epoch 42/50\n",
      "60/60 [==============================] - 9s 157ms/step - loss: 0.0273 - accuracy: 0.9937 - val_loss: 0.3351 - val_accuracy: 0.9417\n",
      "Epoch 43/50\n",
      "60/60 [==============================] - 10s 160ms/step - loss: 0.0198 - accuracy: 0.9979 - val_loss: 0.3986 - val_accuracy: 0.9333\n",
      "Epoch 44/50\n",
      "60/60 [==============================] - 10s 163ms/step - loss: 0.0199 - accuracy: 0.9958 - val_loss: 0.3800 - val_accuracy: 0.9333\n",
      "Epoch 45/50\n",
      "60/60 [==============================] - 10s 163ms/step - loss: 0.0327 - accuracy: 0.9937 - val_loss: 0.4782 - val_accuracy: 0.9417\n",
      "Epoch 46/50\n",
      "60/60 [==============================] - 10s 158ms/step - loss: 0.0227 - accuracy: 0.9979 - val_loss: 0.5017 - val_accuracy: 0.9333\n",
      "Epoch 47/50\n",
      "60/60 [==============================] - 10s 171ms/step - loss: 0.0278 - accuracy: 0.9979 - val_loss: 0.4887 - val_accuracy: 0.9417\n",
      "Epoch 48/50\n",
      "60/60 [==============================] - 10s 169ms/step - loss: 0.0248 - accuracy: 0.9979 - val_loss: 0.5277 - val_accuracy: 0.9333\n",
      "Epoch 49/50\n",
      "60/60 [==============================] - 9s 157ms/step - loss: 0.0208 - accuracy: 0.9979 - val_loss: 0.5170 - val_accuracy: 0.9417\n",
      "Epoch 50/50\n",
      "60/60 [==============================] - 10s 159ms/step - loss: 0.0279 - accuracy: 0.9979 - val_loss: 0.5278 - val_accuracy: 0.9417\n"
     ]
    }
   ],
   "source": [
    "history = model3.fit(\n",
    "    train_generator,\n",
    "    steps_per_epoch = train_generator.samples // BATCH_SIZE,\n",
    "    validation_data = validation_generator, \n",
    "    validation_steps = validation_generator.samples // BATCH_SIZE, epochs = EPOCHS)"
   ]
  },
  {
   "cell_type": "code",
   "execution_count": 18,
   "id": "10a38f0e",
   "metadata": {},
   "outputs": [
    {
     "data": {
      "image/png": "[encoded data removed]",
      "text/plain": [
       "<Figure size 432x288 with 1 Axes>"
      ]
     },
     "metadata": {
      "needs_background": "light"
     },
     "output_type": "display_data"
    },
    {
     "data": {
      "image/png": "[encoded data removed]",
      "text/plain": [
       "<Figure size 432x288 with 1 Axes>"
      ]
     },
     "metadata": {
      "needs_background": "light"
     },
     "output_type": "display_data"
    }
   ],
   "source": [
    "accuracy = history.history[\"accuracy\"]\n",
    "val_accuracy = history.history[\"val_accuracy\"]\n",
    "loss = history.history[\"loss\"]\n",
    "val_loss = history.history[\"val_loss\"]\n",
    "epochs = range(1, len(accuracy) + 1)\n",
    "plt.plot(epochs, accuracy, \"bo\", label=\"Training accuracy\")\n",
    "plt.plot(epochs, val_accuracy, \"b\", label=\"Validation accuracy\")\n",
    "plt.title(\"Training and validation accuracy\")\n",
    "plt.legend()\n",
    "plt.figure()\n",
    "plt.plot(epochs, loss, \"bo\", label=\"Training loss\")\n",
    "plt.plot(epochs, val_loss, \"b\", label=\"Validation loss\")\n",
    "plt.title(\"Training and validation loss\")\n",
    "plt.legend()\n",
    "plt.show()"
   ]
  },
  {
   "cell_type": "code",
   "execution_count": 19,
   "id": "f63e8e63",
   "metadata": {},
   "outputs": [
    {
     "name": "stdout",
     "output_type": "stream",
     "text": [
      "INFO:tensorflow:Assets written to: F:\\data for final project sem3\\results\\overfit model\\remove aug add dropout\\assets\n"
     ]
    }
   ],
   "source": [
    "# model3.save(r'F:\\data for final project sem3\\results\\overfit model\\remove aug add dropout')"
   ]
  },
  {
   "cell_type": "code",
   "execution_count": 29,
   "id": "d10d8b58",
   "metadata": {},
   "outputs": [
    {
     "name": "stdout",
     "output_type": "stream",
     "text": [
      "78/78 [==============================] - 9s 78ms/step - loss: 1.9871 - accuracy: 0.7869\n",
      "Test accuracy: 0.787\n"
     ]
    }
   ],
   "source": [
    "test_model = model3\n",
    "test_loss, test_acc = test_model.evaluate(test_dataset)\n",
    "print(f\"Test accuracy: {test_acc:.3f}\")"
   ]
  },
  {
   "cell_type": "markdown",
   "id": "fdf5cd7f",
   "metadata": {},
   "source": [
    "## model 4 proper fine tune"
   ]
  },
  {
   "cell_type": "code",
   "execution_count": 85,
   "id": "edd296d7",
   "metadata": {},
   "outputs": [],
   "source": [
    "# training our simple model with the frozen conv base"
   ]
  },
  {
   "cell_type": "code",
   "execution_count": 79,
   "id": "4a8bb6a6",
   "metadata": {},
   "outputs": [],
   "source": [
    "conv_base = keras.applications.vgg16.VGG16(\n",
    "    weights=\"imagenet\",\n",
    "    include_top=False,\n",
    "    input_shape=INPUT_SHAPE)"
   ]
  },
  {
   "cell_type": "code",
   "execution_count": 81,
   "id": "72098080",
   "metadata": {},
   "outputs": [],
   "source": [
    "inputs = keras.Input(INPUT_SHAPE)\n",
    "x = inputs\n",
    "x = keras.applications.vgg16.preprocess_input(x)\n",
    "x = conv_base(x)\n",
    "x = layers.Flatten()(x)\n",
    "x = layers.Dense(256)(x)\n",
    "x = layers.Dropout(0.5)(x)\n",
    "outputs = layers.Dense(1, activation=\"sigmoid\")(x)\n",
    "model4 = keras.Model(inputs, outputs)\n",
    "model4.compile(loss=\"binary_crossentropy\",\n",
    "optimizer=\"rmsprop\",\n",
    "metrics=[\"accuracy\"])"
   ]
  },
  {
   "cell_type": "code",
   "execution_count": 82,
   "id": "c8699836",
   "metadata": {},
   "outputs": [],
   "source": [
    "# freezing layers\n",
    "conv_base.trainable = False"
   ]
  },
  {
   "cell_type": "code",
   "execution_count": 83,
   "id": "e79972de",
   "metadata": {},
   "outputs": [
    {
     "name": "stdout",
     "output_type": "stream",
     "text": [
      "Epoch 1/50\n",
      "60/60 [==============================] - 11s 163ms/step - loss: 1.6092 - accuracy: 0.4917 - val_loss: 0.7258 - val_accuracy: 0.5000\n",
      "Epoch 2/50\n",
      "60/60 [==============================] - 10s 159ms/step - loss: 1.5023 - accuracy: 0.4812 - val_loss: 0.6817 - val_accuracy: 0.5083\n",
      "Epoch 3/50\n",
      "60/60 [==============================] - 10s 159ms/step - loss: 1.3998 - accuracy: 0.5104 - val_loss: 0.6928 - val_accuracy: 0.5000\n",
      "Epoch 4/50\n",
      "60/60 [==============================] - 10s 170ms/step - loss: 1.2421 - accuracy: 0.5292 - val_loss: 0.6810 - val_accuracy: 0.5000\n",
      "Epoch 5/50\n",
      "60/60 [==============================] - 10s 171ms/step - loss: 1.4383 - accuracy: 0.4979 - val_loss: 0.6727 - val_accuracy: 0.5417\n",
      "Epoch 6/50\n",
      "60/60 [==============================] - 10s 162ms/step - loss: 1.4296 - accuracy: 0.4354 - val_loss: 0.6713 - val_accuracy: 0.5167\n",
      "Epoch 7/50\n",
      "60/60 [==============================] - 10s 160ms/step - loss: 1.3838 - accuracy: 0.5083 - val_loss: 0.6661 - val_accuracy: 0.6750\n",
      "Epoch 8/50\n",
      "60/60 [==============================] - 10s 159ms/step - loss: 1.3099 - accuracy: 0.5083 - val_loss: 0.6825 - val_accuracy: 0.5000\n",
      "Epoch 9/50\n",
      "60/60 [==============================] - 10s 160ms/step - loss: 1.3266 - accuracy: 0.4437 - val_loss: 0.6753 - val_accuracy: 0.5000\n",
      "Epoch 10/50\n",
      "60/60 [==============================] - 10s 161ms/step - loss: 1.2978 - accuracy: 0.5125 - val_loss: 0.7041 - val_accuracy: 0.5000\n",
      "Epoch 11/50\n",
      "60/60 [==============================] - 10s 160ms/step - loss: 1.3458 - accuracy: 0.4979 - val_loss: 0.6551 - val_accuracy: 0.7333\n",
      "Epoch 12/50\n",
      "60/60 [==============================] - 10s 160ms/step - loss: 1.1403 - accuracy: 0.5312 - val_loss: 0.6524 - val_accuracy: 0.7583\n",
      "Epoch 13/50\n",
      "60/60 [==============================] - 10s 161ms/step - loss: 1.1848 - accuracy: 0.5104 - val_loss: 0.6526 - val_accuracy: 0.6417\n",
      "Epoch 14/50\n",
      "60/60 [==============================] - 10s 162ms/step - loss: 1.2723 - accuracy: 0.4938 - val_loss: 0.6620 - val_accuracy: 0.5000\n",
      "Epoch 15/50\n",
      "60/60 [==============================] - 10s 162ms/step - loss: 1.0747 - accuracy: 0.5208 - val_loss: 0.6568 - val_accuracy: 0.5167\n",
      "Epoch 16/50\n",
      "60/60 [==============================] - 10s 159ms/step - loss: 1.1391 - accuracy: 0.5292 - val_loss: 0.6434 - val_accuracy: 0.7917\n",
      "Epoch 17/50\n",
      "60/60 [==============================] - 10s 160ms/step - loss: 1.0129 - accuracy: 0.5625 - val_loss: 0.6403 - val_accuracy: 0.7000\n",
      "Epoch 18/50\n",
      "60/60 [==============================] - 10s 168ms/step - loss: 1.1169 - accuracy: 0.5000 - val_loss: 0.6816 - val_accuracy: 0.5000\n",
      "Epoch 19/50\n",
      "60/60 [==============================] - 10s 160ms/step - loss: 1.0831 - accuracy: 0.5063 - val_loss: 0.6403 - val_accuracy: 0.6083\n",
      "Epoch 20/50\n",
      "60/60 [==============================] - 10s 165ms/step - loss: 1.0442 - accuracy: 0.5104 - val_loss: 0.6324 - val_accuracy: 0.7417\n",
      "Epoch 21/50\n",
      "60/60 [==============================] - 10s 161ms/step - loss: 0.9937 - accuracy: 0.5271 - val_loss: 0.6314 - val_accuracy: 0.8000\n",
      "Epoch 22/50\n",
      "60/60 [==============================] - 10s 160ms/step - loss: 0.9634 - accuracy: 0.5437 - val_loss: 0.6340 - val_accuracy: 0.6667\n",
      "Epoch 23/50\n",
      "60/60 [==============================] - 10s 161ms/step - loss: 1.0009 - accuracy: 0.5312 - val_loss: 0.6308 - val_accuracy: 0.6833\n",
      "Epoch 24/50\n",
      "60/60 [==============================] - 10s 165ms/step - loss: 0.9395 - accuracy: 0.5542 - val_loss: 0.6540 - val_accuracy: 0.5083\n",
      "Epoch 25/50\n",
      "60/60 [==============================] - 10s 161ms/step - loss: 0.9489 - accuracy: 0.5354 - val_loss: 0.6252 - val_accuracy: 0.7750\n",
      "Epoch 26/50\n",
      "60/60 [==============================] - 10s 161ms/step - loss: 0.9923 - accuracy: 0.5063 - val_loss: 0.6215 - val_accuracy: 0.6917\n",
      "Epoch 27/50\n",
      "60/60 [==============================] - 10s 164ms/step - loss: 0.9213 - accuracy: 0.5479 - val_loss: 0.6151 - val_accuracy: 0.7500\n",
      "Epoch 28/50\n",
      "60/60 [==============================] - 10s 163ms/step - loss: 0.9001 - accuracy: 0.5521 - val_loss: 0.6214 - val_accuracy: 0.7000\n",
      "Epoch 29/50\n",
      "60/60 [==============================] - 10s 162ms/step - loss: 0.9691 - accuracy: 0.5208 - val_loss: 0.6103 - val_accuracy: 0.7500\n",
      "Epoch 30/50\n",
      "60/60 [==============================] - 10s 161ms/step - loss: 0.9185 - accuracy: 0.4896 - val_loss: 0.6116 - val_accuracy: 0.7083\n",
      "Epoch 31/50\n",
      "60/60 [==============================] - 10s 165ms/step - loss: 0.8403 - accuracy: 0.5521 - val_loss: 0.6074 - val_accuracy: 0.8417\n",
      "Epoch 32/50\n",
      "60/60 [==============================] - 10s 164ms/step - loss: 0.8738 - accuracy: 0.5479 - val_loss: 0.6056 - val_accuracy: 0.8167\n",
      "Epoch 33/50\n",
      "60/60 [==============================] - 10s 163ms/step - loss: 0.8337 - accuracy: 0.5458 - val_loss: 0.6034 - val_accuracy: 0.8167\n",
      "Epoch 34/50\n",
      "60/60 [==============================] - 10s 161ms/step - loss: 0.8271 - accuracy: 0.5396 - val_loss: 0.6021 - val_accuracy: 0.8250\n",
      "Epoch 35/50\n",
      "60/60 [==============================] - 10s 165ms/step - loss: 0.7783 - accuracy: 0.5688 - val_loss: 0.6061 - val_accuracy: 0.6583\n",
      "Epoch 36/50\n",
      "60/60 [==============================] - 10s 164ms/step - loss: 0.7963 - accuracy: 0.5813 - val_loss: 0.5949 - val_accuracy: 0.7917\n",
      "Epoch 37/50\n",
      "60/60 [==============================] - 10s 161ms/step - loss: 0.7941 - accuracy: 0.5292 - val_loss: 0.6139 - val_accuracy: 0.6167\n",
      "Epoch 38/50\n",
      "60/60 [==============================] - 10s 162ms/step - loss: 0.7575 - accuracy: 0.5896 - val_loss: 0.5924 - val_accuracy: 0.8417\n",
      "Epoch 39/50\n",
      "60/60 [==============================] - 10s 161ms/step - loss: 0.7612 - accuracy: 0.5708 - val_loss: 0.5892 - val_accuracy: 0.7500\n",
      "Epoch 40/50\n",
      "60/60 [==============================] - 10s 161ms/step - loss: 0.7674 - accuracy: 0.5583 - val_loss: 0.5908 - val_accuracy: 0.8167\n",
      "Epoch 41/50\n",
      "60/60 [==============================] - 10s 162ms/step - loss: 0.6948 - accuracy: 0.5813 - val_loss: 0.6047 - val_accuracy: 0.6750\n",
      "Epoch 42/50\n",
      "60/60 [==============================] - 10s 162ms/step - loss: 0.6731 - accuracy: 0.6229 - val_loss: 0.5823 - val_accuracy: 0.7417\n",
      "Epoch 43/50\n",
      "60/60 [==============================] - 10s 163ms/step - loss: 0.7071 - accuracy: 0.5979 - val_loss: 0.5829 - val_accuracy: 0.7333\n",
      "Epoch 44/50\n",
      "60/60 [==============================] - 10s 160ms/step - loss: 0.6951 - accuracy: 0.6083 - val_loss: 0.5862 - val_accuracy: 0.8000\n",
      "Epoch 45/50\n",
      "60/60 [==============================] - 10s 161ms/step - loss: 0.7087 - accuracy: 0.5604 - val_loss: 0.5759 - val_accuracy: 0.7583\n",
      "Epoch 46/50\n",
      "60/60 [==============================] - 10s 159ms/step - loss: 0.7006 - accuracy: 0.6083 - val_loss: 0.5827 - val_accuracy: 0.8000\n",
      "Epoch 47/50\n",
      "60/60 [==============================] - 10s 161ms/step - loss: 0.6856 - accuracy: 0.6146 - val_loss: 0.5758 - val_accuracy: 0.7333\n",
      "Epoch 48/50\n",
      "60/60 [==============================] - 10s 161ms/step - loss: 0.6604 - accuracy: 0.6208 - val_loss: 0.5747 - val_accuracy: 0.8250\n",
      "Epoch 49/50\n",
      "60/60 [==============================] - 10s 162ms/step - loss: 0.6474 - accuracy: 0.6146 - val_loss: 0.5737 - val_accuracy: 0.8167\n",
      "Epoch 50/50\n",
      "60/60 [==============================] - 10s 162ms/step - loss: 0.6461 - accuracy: 0.6542 - val_loss: 0.5664 - val_accuracy: 0.7417\n"
     ]
    }
   ],
   "source": [
    "model4.compile(loss=\"binary_crossentropy\",\n",
    "               optimizer=keras.optimizers.RMSprop(learning_rate=1e-5),\n",
    "               metrics=[\"accuracy\"])\n",
    "callbacks = [\n",
    "    keras.callbacks.ModelCheckpoint(\n",
    "        filepath=\"fine_tuning_new.keras\",\n",
    "        save_best_only=True,\n",
    "        monitor=\"val_loss\")\n",
    "]\n",
    "\n",
    "history = model4.fit(\n",
    "    train_generator,\n",
    "    epochs=50,\n",
    "    validation_data=validation_generator,\n",
    "    callbacks=callbacks)"
   ]
  },
  {
   "cell_type": "code",
   "execution_count": 86,
   "id": "58188aed",
   "metadata": {},
   "outputs": [],
   "source": [
    "conv_base.trainable = True\n",
    "for layer in conv_base.layers[:-4]:\n",
    "    layer.trainable = False"
   ]
  },
  {
   "cell_type": "code",
   "execution_count": 87,
   "id": "2f38196a",
   "metadata": {},
   "outputs": [
    {
     "name": "stdout",
     "output_type": "stream",
     "text": [
      "Epoch 1/50\n",
      "60/60 [==============================] - 11s 166ms/step - loss: 0.7507 - accuracy: 0.5896 - val_loss: 0.6161 - val_accuracy: 0.5917\n",
      "Epoch 2/50\n",
      "60/60 [==============================] - 10s 160ms/step - loss: 0.6111 - accuracy: 0.6812 - val_loss: 0.5685 - val_accuracy: 0.7083\n",
      "Epoch 3/50\n",
      "60/60 [==============================] - 10s 163ms/step - loss: 0.6130 - accuracy: 0.6896 - val_loss: 0.4750 - val_accuracy: 0.8583\n",
      "Epoch 4/50\n",
      "60/60 [==============================] - 10s 161ms/step - loss: 0.6005 - accuracy: 0.6792 - val_loss: 0.8585 - val_accuracy: 0.5250\n",
      "Epoch 5/50\n",
      "60/60 [==============================] - 10s 163ms/step - loss: 0.5829 - accuracy: 0.6938 - val_loss: 0.4481 - val_accuracy: 0.7500\n",
      "Epoch 6/50\n",
      "60/60 [==============================] - 10s 162ms/step - loss: 0.5595 - accuracy: 0.7250 - val_loss: 0.8306 - val_accuracy: 0.5250\n",
      "Epoch 7/50\n",
      "60/60 [==============================] - 10s 161ms/step - loss: 0.5315 - accuracy: 0.7458 - val_loss: 0.4614 - val_accuracy: 0.7417\n",
      "Epoch 8/50\n",
      "60/60 [==============================] - 10s 160ms/step - loss: 0.5081 - accuracy: 0.7771 - val_loss: 0.4927 - val_accuracy: 0.8000\n",
      "Epoch 9/50\n",
      "60/60 [==============================] - 10s 163ms/step - loss: 0.5145 - accuracy: 0.7667 - val_loss: 0.4045 - val_accuracy: 0.8250\n",
      "Epoch 10/50\n",
      "60/60 [==============================] - 10s 163ms/step - loss: 0.4991 - accuracy: 0.7604 - val_loss: 0.4634 - val_accuracy: 0.7333\n",
      "Epoch 11/50\n",
      "60/60 [==============================] - 10s 161ms/step - loss: 0.4671 - accuracy: 0.7750 - val_loss: 0.5810 - val_accuracy: 0.7333\n",
      "Epoch 12/50\n",
      "60/60 [==============================] - 10s 162ms/step - loss: 0.4586 - accuracy: 0.7812 - val_loss: 0.3806 - val_accuracy: 0.8417\n",
      "Epoch 13/50\n",
      "60/60 [==============================] - 10s 161ms/step - loss: 0.4451 - accuracy: 0.8208 - val_loss: 0.3814 - val_accuracy: 0.8833\n",
      "Epoch 14/50\n",
      "60/60 [==============================] - 10s 163ms/step - loss: 0.4622 - accuracy: 0.7729 - val_loss: 0.6151 - val_accuracy: 0.6500\n",
      "Epoch 15/50\n",
      "60/60 [==============================] - 10s 162ms/step - loss: 0.4556 - accuracy: 0.7812 - val_loss: 0.7377 - val_accuracy: 0.6583\n",
      "Epoch 16/50\n",
      "60/60 [==============================] - 10s 163ms/step - loss: 0.4235 - accuracy: 0.7958 - val_loss: 0.3544 - val_accuracy: 0.8583\n",
      "Epoch 17/50\n",
      "60/60 [==============================] - 10s 162ms/step - loss: 0.4575 - accuracy: 0.7958 - val_loss: 0.3503 - val_accuracy: 0.8500\n",
      "Epoch 18/50\n",
      "60/60 [==============================] - 10s 163ms/step - loss: 0.4068 - accuracy: 0.8062 - val_loss: 1.0084 - val_accuracy: 0.5417\n",
      "Epoch 19/50\n",
      "60/60 [==============================] - 10s 160ms/step - loss: 0.4117 - accuracy: 0.8229 - val_loss: 0.5040 - val_accuracy: 0.7917\n",
      "Epoch 20/50\n",
      "60/60 [==============================] - 10s 163ms/step - loss: 0.3900 - accuracy: 0.8250 - val_loss: 0.4143 - val_accuracy: 0.8667\n",
      "Epoch 21/50\n",
      "60/60 [==============================] - 10s 163ms/step - loss: 0.4173 - accuracy: 0.8125 - val_loss: 0.3475 - val_accuracy: 0.8917\n",
      "Epoch 22/50\n",
      "60/60 [==============================] - 10s 161ms/step - loss: 0.3862 - accuracy: 0.8458 - val_loss: 0.3169 - val_accuracy: 0.8583\n",
      "Epoch 23/50\n",
      "60/60 [==============================] - 10s 163ms/step - loss: 0.4002 - accuracy: 0.8271 - val_loss: 0.3280 - val_accuracy: 0.8500\n",
      "Epoch 24/50\n",
      "60/60 [==============================] - 10s 162ms/step - loss: 0.3849 - accuracy: 0.8354 - val_loss: 0.3790 - val_accuracy: 0.8833\n",
      "Epoch 25/50\n",
      "60/60 [==============================] - 10s 162ms/step - loss: 0.3649 - accuracy: 0.8479 - val_loss: 0.3170 - val_accuracy: 0.8417\n",
      "Epoch 26/50\n",
      "60/60 [==============================] - 10s 163ms/step - loss: 0.3721 - accuracy: 0.8375 - val_loss: 0.3325 - val_accuracy: 0.8833\n",
      "Epoch 27/50\n",
      "60/60 [==============================] - 10s 163ms/step - loss: 0.3803 - accuracy: 0.8479 - val_loss: 0.4899 - val_accuracy: 0.8167\n",
      "Epoch 28/50\n",
      "60/60 [==============================] - 10s 162ms/step - loss: 0.3830 - accuracy: 0.8438 - val_loss: 0.3483 - val_accuracy: 0.8833\n",
      "Epoch 29/50\n",
      "60/60 [==============================] - 10s 162ms/step - loss: 0.3700 - accuracy: 0.8417 - val_loss: 0.4470 - val_accuracy: 0.8667\n",
      "Epoch 30/50\n",
      "60/60 [==============================] - 10s 162ms/step - loss: 0.3535 - accuracy: 0.8438 - val_loss: 0.2869 - val_accuracy: 0.8833\n",
      "Epoch 31/50\n",
      "60/60 [==============================] - 10s 161ms/step - loss: 0.3407 - accuracy: 0.8604 - val_loss: 0.2923 - val_accuracy: 0.8917\n",
      "Epoch 32/50\n",
      "60/60 [==============================] - 10s 162ms/step - loss: 0.3352 - accuracy: 0.8667 - val_loss: 0.8724 - val_accuracy: 0.6583\n",
      "Epoch 33/50\n",
      "60/60 [==============================] - 10s 164ms/step - loss: 0.3319 - accuracy: 0.8708 - val_loss: 0.4647 - val_accuracy: 0.7583\n",
      "Epoch 34/50\n",
      "60/60 [==============================] - 10s 160ms/step - loss: 0.3795 - accuracy: 0.8396 - val_loss: 0.4228 - val_accuracy: 0.8667\n",
      "Epoch 35/50\n",
      "60/60 [==============================] - 10s 161ms/step - loss: 0.3496 - accuracy: 0.8417 - val_loss: 0.3811 - val_accuracy: 0.8667\n",
      "Epoch 36/50\n",
      "60/60 [==============================] - 10s 164ms/step - loss: 0.3537 - accuracy: 0.8583 - val_loss: 0.5377 - val_accuracy: 0.7917\n",
      "Epoch 37/50\n",
      "60/60 [==============================] - 10s 163ms/step - loss: 0.3479 - accuracy: 0.8479 - val_loss: 0.2958 - val_accuracy: 0.9000\n",
      "Epoch 38/50\n",
      "60/60 [==============================] - 10s 164ms/step - loss: 0.3511 - accuracy: 0.8479 - val_loss: 0.3693 - val_accuracy: 0.8167\n",
      "Epoch 39/50\n",
      "60/60 [==============================] - 10s 164ms/step - loss: 0.3130 - accuracy: 0.8583 - val_loss: 0.4928 - val_accuracy: 0.8167\n",
      "Epoch 40/50\n",
      "60/60 [==============================] - 10s 162ms/step - loss: 0.3285 - accuracy: 0.8750 - val_loss: 0.2615 - val_accuracy: 0.9000\n",
      "Epoch 41/50\n",
      "60/60 [==============================] - 10s 163ms/step - loss: 0.3276 - accuracy: 0.8813 - val_loss: 0.2601 - val_accuracy: 0.9083\n",
      "Epoch 42/50\n",
      "60/60 [==============================] - 10s 160ms/step - loss: 0.3454 - accuracy: 0.8458 - val_loss: 0.2606 - val_accuracy: 0.9083\n",
      "Epoch 43/50\n",
      "60/60 [==============================] - 10s 162ms/step - loss: 0.3344 - accuracy: 0.8667 - val_loss: 0.2532 - val_accuracy: 0.9000\n",
      "Epoch 44/50\n",
      "60/60 [==============================] - 10s 164ms/step - loss: 0.3155 - accuracy: 0.8771 - val_loss: 0.2924 - val_accuracy: 0.8833\n",
      "Epoch 45/50\n",
      "60/60 [==============================] - 10s 166ms/step - loss: 0.3125 - accuracy: 0.8771 - val_loss: 0.2853 - val_accuracy: 0.8667\n",
      "Epoch 46/50\n",
      "60/60 [==============================] - 10s 163ms/step - loss: 0.3400 - accuracy: 0.8667 - val_loss: 0.2782 - val_accuracy: 0.8917\n",
      "Epoch 47/50\n",
      "60/60 [==============================] - 10s 163ms/step - loss: 0.3105 - accuracy: 0.8833 - val_loss: 0.2578 - val_accuracy: 0.8833\n",
      "Epoch 48/50\n",
      "60/60 [==============================] - 10s 166ms/step - loss: 0.3183 - accuracy: 0.8625 - val_loss: 0.5300 - val_accuracy: 0.8167\n",
      "Epoch 49/50\n",
      "60/60 [==============================] - 10s 161ms/step - loss: 0.3133 - accuracy: 0.8938 - val_loss: 0.2430 - val_accuracy: 0.9083\n",
      "Epoch 50/50\n",
      "60/60 [==============================] - 10s 161ms/step - loss: 0.3173 - accuracy: 0.8729 - val_loss: 0.4841 - val_accuracy: 0.7417\n"
     ]
    }
   ],
   "source": [
    "model4.compile(loss=\"binary_crossentropy\",\n",
    "               optimizer=keras.optimizers.RMSprop(learning_rate=1e-5),\n",
    "               metrics=[\"accuracy\"])\n",
    "callbacks = [\n",
    "    keras.callbacks.ModelCheckpoint(\n",
    "        filepath=\"fine_tuning_model4_new2.keras\",\n",
    "        save_best_only=True,\n",
    "        monitor=\"val_loss\")\n",
    "]\n",
    "\n",
    "history = model4.fit(\n",
    "    train_generator,\n",
    "    epochs=50,\n",
    "    validation_data=validation_generator,\n",
    "    callbacks=callbacks)"
   ]
  },
  {
   "cell_type": "code",
   "execution_count": 88,
   "id": "9101cdbb",
   "metadata": {},
   "outputs": [
    {
     "data": {
      "image/png": "[encoded data removed]",
      "text/plain": [
       "<Figure size 432x288 with 1 Axes>"
      ]
     },
     "metadata": {
      "needs_background": "light"
     },
     "output_type": "display_data"
    },
    {
     "data": {
      "image/png": "[encoded data removed]",
      "text/plain": [
       "<Figure size 432x288 with 1 Axes>"
      ]
     },
     "metadata": {
      "needs_background": "light"
     },
     "output_type": "display_data"
    }
   ],
   "source": [
    "accuracy = history.history[\"accuracy\"]\n",
    "val_accuracy = history.history[\"val_accuracy\"]\n",
    "loss = history.history[\"loss\"]\n",
    "val_loss = history.history[\"val_loss\"]\n",
    "epochs = range(1, len(accuracy) + 1)\n",
    "plt.plot(epochs, accuracy, \"bo\", label=\"Training accuracy\")\n",
    "plt.plot(epochs, val_accuracy, \"b\", label=\"Validation accuracy\")\n",
    "plt.title(\"Training and validation accuracy\")\n",
    "plt.legend()\n",
    "plt.figure()\n",
    "plt.plot(epochs, loss, \"bo\", label=\"Training loss\")\n",
    "plt.plot(epochs, val_loss, \"b\", label=\"Validation loss\")\n",
    "plt.title(\"Training and validation loss\")\n",
    "plt.legend()\n",
    "plt.show()"
   ]
  },
  {
   "cell_type": "code",
   "execution_count": 89,
   "id": "90a9e373",
   "metadata": {},
   "outputs": [
    {
     "name": "stdout",
     "output_type": "stream",
     "text": [
      "78/78 [==============================] - 7s 88ms/step - loss: 0.4073 - accuracy: 0.8125\n",
      "Test accuracy: 0.812\n"
     ]
    }
   ],
   "source": [
    "model4_2 = keras.models.load_model(\"fine_tuning_model4_new2.keras\")\n",
    "\n",
    "test_loss, test_acc = model4_2.evaluate(test_generator)\n",
    "\n",
    "print(f\"Test accuracy: {test_acc:.3f}\")"
   ]
  },
  {
   "cell_type": "code",
   "execution_count": 90,
   "id": "ba7e7b38",
   "metadata": {},
   "outputs": [
    {
     "name": "stdout",
     "output_type": "stream",
     "text": [
      "INFO:tensorflow:Assets written to: F:\\data for final project sem3\\results\\overfit model\\vgg16 with finetune proper\\assets\n"
     ]
    }
   ],
   "source": [
    "model4_2.save(r\"F:\\data for final project sem3\\results\\overfit model\\vgg16 with finetune proper\")"
   ]
  },
  {
   "cell_type": "markdown",
   "id": "1912b854",
   "metadata": {},
   "source": [
    "## model 5"
   ]
  },
  {
   "cell_type": "code",
   "execution_count": 2,
   "id": "34cc3331",
   "metadata": {},
   "outputs": [],
   "source": [
    "DATASET_DIR = r\"F:\\data for final project sem3\\archive\\Coronahack-Chest-XRay-Dataset\\Coronahack-Chest-XRay-Dataset\\exp3 copy\\train\""
   ]
  },
  {
   "cell_type": "code",
   "execution_count": 3,
   "id": "80a02a89",
   "metadata": {},
   "outputs": [
    {
     "name": "stdout",
     "output_type": "stream",
     "text": [
      "Found 1600 images belonging to 2 classes.\n",
      "Found 400 images belonging to 2 classes.\n"
     ]
    }
   ],
   "source": [
    "IMG_W = 150\n",
    "IMG_H = 150\n",
    "CHANNELS = 3\n",
    "\n",
    "INPUT_SHAPE = (IMG_W, IMG_H, CHANNELS)\n",
    "NB_CLASSES = 2\n",
    "EPOCHS = 15\n",
    "BATCH_SIZE = 16\n",
    "\n",
    "train_datagen = ImageDataGenerator(rescale=1./255,\n",
    "    #shear_range=0.2,\n",
    "    #zoom_range=0.2,\n",
    "    #horizontal_flip=True,\n",
    "    validation_split=0.2)\n",
    "\n",
    "train_generator = train_datagen.flow_from_directory(\n",
    "    DATASET_DIR,\n",
    "    target_size=(IMG_H, IMG_W),\n",
    "    batch_size=BATCH_SIZE,\n",
    "    class_mode='binary',\n",
    "    subset='training')\n",
    "\n",
    "validation_generator = train_datagen.flow_from_directory(\n",
    "    DATASET_DIR, \n",
    "    target_size=(IMG_H, IMG_W),\n",
    "    batch_size=BATCH_SIZE,\n",
    "    class_mode='binary',\n",
    "    shuffle= True,\n",
    "    subset='validation')"
   ]
  },
  {
   "cell_type": "code",
   "execution_count": 4,
   "id": "7217b4cc",
   "metadata": {},
   "outputs": [
    {
     "name": "stdout",
     "output_type": "stream",
     "text": [
      "Found 624 images belonging to 2 classes.\n"
     ]
    }
   ],
   "source": [
    "new_base_dir = r\"F:\\data for final project sem3\\archive\\Coronahack-Chest-XRay-Dataset\\Coronahack-Chest-XRay-Dataset\\exp3 copy/test\"\n",
    "train_datagen = ImageDataGenerator(rescale=1./255)\n",
    "\n",
    "test_generator = train_datagen.flow_from_directory(new_base_dir,\n",
    "                                                   target_size=(IMG_H, IMG_W),\n",
    "                                                   batch_size=BATCH_SIZE,\n",
    "                                                   class_mode='binary')"
   ]
  },
  {
   "cell_type": "code",
   "execution_count": 5,
   "id": "dfc9a907",
   "metadata": {},
   "outputs": [],
   "source": [
    "inputs = keras.Input(shape=INPUT_SHAPE)\n",
    "x = inputs\n",
    "x = layers.Conv2D(filters=8, kernel_size=3, activation=\"relu\")(x)\n",
    "x = layers.MaxPooling2D(pool_size=2)(x)\n",
    "x = layers.Conv2D(filters=16, kernel_size=3, activation=\"relu\")(x)\n",
    "x = layers.MaxPooling2D(pool_size=2)(x)\n",
    "x = layers.Conv2D(filters=32, kernel_size=3, activation=\"relu\")(x)\n",
    "x = layers.MaxPooling2D(pool_size=2)(x)\n",
    "x = layers.Conv2D(filters=64, kernel_size=3, activation=\"relu\")(x)\n",
    "x = layers.MaxPooling2D(pool_size=2)(x)\n",
    "x = layers.Conv2D(filters=64, kernel_size=3, activation=\"relu\")(x)\n",
    "x = layers.Flatten()(x)\n",
    "x = layers.Dense(8, activation=\"sigmoid\")(x)\n",
    "\n",
    "outputs = layers.Dense(1, activation=\"sigmoid\")(x)\n",
    "model5 = keras.Model(inputs=inputs, outputs=outputs)"
   ]
  },
  {
   "cell_type": "code",
   "execution_count": 7,
   "id": "9d75101e",
   "metadata": {},
   "outputs": [],
   "source": [
    "model5.compile(loss=\"binary_crossentropy\",\n",
    "optimizer=\"rmsprop\",\n",
    "metrics=[\"accuracy\",tf.keras.metrics.TruePositives(), tf.keras.metrics.TrueNegatives()])\n",
    "\n",
    "callbacks = [\n",
    "    keras.callbacks.ModelCheckpoint(\n",
    "        filepath=\"fine_tuning_model5_2_new_metrics.keras\",\n",
    "        save_best_only=True,\n",
    "        monitor=\"val_loss\")\n",
    "]"
   ]
  },
  {
   "cell_type": "code",
   "execution_count": 8,
   "id": "973db552",
   "metadata": {},
   "outputs": [
    {
     "name": "stdout",
     "output_type": "stream",
     "text": [
      "Epoch 1/15\n",
      "100/100 [==============================] - 43s 377ms/step - loss: 0.6988 - accuracy: 0.4969 - true_positives_1: 765.0000 - true_negatives_1: 30.0000 - val_loss: 0.6740 - val_accuracy: 0.5000 - val_true_positives_1: 200.0000 - val_true_negatives_1: 0.0000e+00\n",
      "Epoch 2/15\n",
      "100/100 [==============================] - 33s 325ms/step - loss: 0.6319 - accuracy: 0.7269 - true_positives_1: 746.0000 - true_negatives_1: 417.0000 - val_loss: 0.6167 - val_accuracy: 0.8450 - val_true_positives_1: 149.0000 - val_true_negatives_1: 189.0000\n",
      "Epoch 3/15\n",
      "100/100 [==============================] - 32s 323ms/step - loss: 0.5843 - accuracy: 0.8769 - true_positives_1: 709.0000 - true_negatives_1: 694.0000 - val_loss: 0.5728 - val_accuracy: 0.8775 - val_true_positives_1: 166.0000 - val_true_negatives_1: 185.0000\n",
      "Epoch 4/15\n",
      "100/100 [==============================] - 31s 314ms/step - loss: 0.5484 - accuracy: 0.8938 - true_positives_1: 708.0000 - true_negatives_1: 722.0000 - val_loss: 0.5408 - val_accuracy: 0.8800 - val_true_positives_1: 178.0000 - val_true_negatives_1: 174.0000\n",
      "Epoch 5/15\n",
      "100/100 [==============================] - 33s 328ms/step - loss: 0.5101 - accuracy: 0.9244 - true_positives_1: 736.0000 - true_negatives_1: 743.0000 - val_loss: 0.5120 - val_accuracy: 0.8950 - val_true_positives_1: 160.0000 - val_true_negatives_1: 198.0000\n",
      "Epoch 6/15\n",
      "100/100 [==============================] - 33s 330ms/step - loss: 0.4811 - accuracy: 0.9256 - true_positives_1: 743.0000 - true_negatives_1: 738.0000 - val_loss: 0.4741 - val_accuracy: 0.9125 - val_true_positives_1: 183.0000 - val_true_negatives_1: 182.0000\n",
      "Epoch 7/15\n",
      "100/100 [==============================] - 33s 326ms/step - loss: 0.4501 - accuracy: 0.9306 - true_positives_1: 742.0000 - true_negatives_1: 747.0000 - val_loss: 0.4426 - val_accuracy: 0.9275 - val_true_positives_1: 174.0000 - val_true_negatives_1: 197.0000\n",
      "Epoch 8/15\n",
      "100/100 [==============================] - 31s 311ms/step - loss: 0.4224 - accuracy: 0.9388 - true_positives_1: 750.0000 - true_negatives_1: 752.0000 - val_loss: 0.4300 - val_accuracy: 0.9125 - val_true_positives_1: 165.0000 - val_true_negatives_1: 200.0000\n",
      "Epoch 9/15\n",
      "100/100 [==============================] - 30s 303ms/step - loss: 0.4039 - accuracy: 0.9312 - true_positives_1: 745.0000 - true_negatives_1: 745.0000 - val_loss: 0.3897 - val_accuracy: 0.9375 - val_true_positives_1: 176.0000 - val_true_negatives_1: 199.0000\n",
      "Epoch 10/15\n",
      "100/100 [==============================] - 29s 292ms/step - loss: 0.3723 - accuracy: 0.9456 - true_positives_1: 754.0000 - true_negatives_1: 759.0000 - val_loss: 0.3764 - val_accuracy: 0.9300 - val_true_positives_1: 177.0000 - val_true_negatives_1: 195.0000\n",
      "Epoch 11/15\n",
      "100/100 [==============================] - 29s 289ms/step - loss: 0.3501 - accuracy: 0.9506 - true_positives_1: 754.0000 - true_negatives_1: 767.0000 - val_loss: 0.3742 - val_accuracy: 0.9200 - val_true_positives_1: 186.0000 - val_true_negatives_1: 182.0000\n",
      "Epoch 12/15\n",
      "100/100 [==============================] - 30s 299ms/step - loss: 0.3245 - accuracy: 0.9538 - true_positives_1: 761.0000 - true_negatives_1: 765.0000 - val_loss: 0.3289 - val_accuracy: 0.9400 - val_true_positives_1: 183.0000 - val_true_negatives_1: 193.0000\n",
      "Epoch 13/15\n",
      "100/100 [==============================] - 30s 299ms/step - loss: 0.3069 - accuracy: 0.9550 - true_positives_1: 763.0000 - true_negatives_1: 765.0000 - val_loss: 0.3529 - val_accuracy: 0.9075 - val_true_positives_1: 192.0000 - val_true_negatives_1: 171.0000\n",
      "Epoch 14/15\n",
      "100/100 [==============================] - 29s 290ms/step - loss: 0.2856 - accuracy: 0.9588 - true_positives_1: 767.0000 - true_negatives_1: 767.0000 - val_loss: 0.3086 - val_accuracy: 0.9350 - val_true_positives_1: 188.0000 - val_true_negatives_1: 186.0000\n",
      "Epoch 15/15\n",
      "100/100 [==============================] - 29s 292ms/step - loss: 0.2737 - accuracy: 0.9556 - true_positives_1: 768.0000 - true_negatives_1: 761.0000 - val_loss: 0.3108 - val_accuracy: 0.9225 - val_true_positives_1: 171.0000 - val_true_negatives_1: 198.0000\n"
     ]
    }
   ],
   "source": [
    "history = model5.fit(\n",
    "    train_generator,\n",
    "    steps_per_epoch = train_generator.samples // BATCH_SIZE,\n",
    "    validation_data = validation_generator,\n",
    "    validation_steps = validation_generator.samples // BATCH_SIZE,\n",
    "    epochs = EPOCHS,\n",
    "    callbacks=callbacks)"
   ]
  },
  {
   "cell_type": "code",
   "execution_count": 11,
   "id": "c6798176",
   "metadata": {},
   "outputs": [
    {
     "name": "stdout",
     "output_type": "stream",
     "text": [
      "39/39 [==============================] - 11s 269ms/step - loss: 0.5357 - accuracy: 0.7676 - true_positives_1: 381.0000 - true_negatives_1: 98.0000\n"
     ]
    },
    {
     "ename": "ValueError",
     "evalue": "too many values to unpack (expected 2)",
     "output_type": "error",
     "traceback": [
      "\u001b[1;31m---------------------------------------------------------------------------\u001b[0m",
      "\u001b[1;31mValueError\u001b[0m                                Traceback (most recent call last)",
      "\u001b[1;32m~\\AppData\\Local\\Temp/ipykernel_16372/2978852764.py\u001b[0m in \u001b[0;36m<module>\u001b[1;34m\u001b[0m\n\u001b[0;32m      2\u001b[0m \u001b[0mmodel5\u001b[0m \u001b[1;33m=\u001b[0m \u001b[0mkeras\u001b[0m\u001b[1;33m.\u001b[0m\u001b[0mmodels\u001b[0m\u001b[1;33m.\u001b[0m\u001b[0mload_model\u001b[0m\u001b[1;33m(\u001b[0m\u001b[1;34m\"fine_tuning_model5_2_newmetrics.keras\"\u001b[0m\u001b[1;33m)\u001b[0m\u001b[1;33m\u001b[0m\u001b[1;33m\u001b[0m\u001b[0m\n\u001b[0;32m      3\u001b[0m \u001b[1;33m\u001b[0m\u001b[0m\n\u001b[1;32m----> 4\u001b[1;33m \u001b[0mtest_loss\u001b[0m\u001b[1;33m,\u001b[0m \u001b[0mtest_acc\u001b[0m \u001b[1;33m=\u001b[0m \u001b[0mmodel5\u001b[0m\u001b[1;33m.\u001b[0m\u001b[0mevaluate\u001b[0m\u001b[1;33m(\u001b[0m\u001b[0mtest_generator\u001b[0m\u001b[1;33m)\u001b[0m\u001b[1;33m\u001b[0m\u001b[1;33m\u001b[0m\u001b[0m\n\u001b[0m\u001b[0;32m      5\u001b[0m \u001b[1;33m\u001b[0m\u001b[0m\n\u001b[0;32m      6\u001b[0m \u001b[0mprint\u001b[0m\u001b[1;33m(\u001b[0m\u001b[1;34mf\"Test accuracy: {test_acc:.3f}\"\u001b[0m\u001b[1;33m)\u001b[0m\u001b[1;33m\u001b[0m\u001b[1;33m\u001b[0m\u001b[0m\n",
      "\u001b[1;31mValueError\u001b[0m: too many values to unpack (expected 2)"
     ]
    }
   ],
   "source": [
    "#model5 = keras.models.load_model(\"fine_tuning_model5.keras\")\n",
    "model5 = keras.models.load_model(\"fine_tuning_model5_2_newmetrics.keras\")\n",
    "\n",
    "test_loss, test_acc = model5.evaluate(test_generator)\n",
    "\n",
    "print(f\"Test accuracy: {test_acc:.3f}\")"
   ]
  }
 ],
 "metadata": {
  "kernelspec": {
   "display_name": "Python 3 (ipykernel)",
   "language": "python",
   "name": "python3"
  },
  "language_info": {
   "codemirror_mode": {
    "name": "ipython",
    "version": 3
   },
   "file_extension": ".py",
   "mimetype": "text/x-python",
   "name": "python",
   "nbconvert_exporter": "python",
   "pygments_lexer": "ipython3",
   "version": "3.8.11"
  }
 },
 "nbformat": 4,
 "nbformat_minor": 5
}
